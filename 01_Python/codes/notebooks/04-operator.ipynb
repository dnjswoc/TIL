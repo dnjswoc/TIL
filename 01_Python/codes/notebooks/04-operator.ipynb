{
 "cells": [
  {
   "attachments": {},
   "cell_type": "markdown",
   "metadata": {},
   "source": [
    "# Operator"
   ]
  },
  {
   "attachments": {},
   "cell_type": "markdown",
   "metadata": {},
   "source": [
    "## 연산자"
   ]
  },
  {
   "attachments": {},
   "cell_type": "markdown",
   "metadata": {},
   "source": [
    "### 산술 연산자\n",
    "|     기호    \t|           연산자          \t|\n",
    "|:-----------:\t|:-------------------------:\t|\n",
    "|       -     \t|         음수   부호       \t|\n",
    "|       +     \t|            덧셈           \t|\n",
    "|       -     \t|            뺄셈           \t|\n",
    "|       *     \t|            곱셈           \t|\n",
    "|       /     \t|           나눗셈          \t|\n",
    "|      //     \t|     정수   나눗셈 (몫)    \t|\n",
    "|       %     \t|           나머지          \t|\n",
    "|      **     \t|      지수   (거듭제곱)    \t|"
   ]
  },
  {
   "attachments": {},
   "cell_type": "markdown",
   "metadata": {},
   "source": [
    "### 복합 연산자\n",
    "- 연산과 할당이 함께 이뤄짐\n",
    "\n",
    "|     기호    \t|         예시         \t|          의미           \t|\n",
    "|:-----------:\t|:----------------:\t|:-------------------:\t|\n",
    "|      +=     \t|      a   += b    \t|      a   = a + b    \t|\n",
    "|      -=     \t|      a   -= b    \t|      a   = a - b    \t|\n",
    "|      *=     \t|      a   *= b    \t|      a   = a * b    \t|\n",
    "|      /=     \t|      a   /= b    \t|      a   = a / b    \t|\n",
    "|      //=    \t|     a   //= b    \t|     a   = a // b    \t|\n",
    "|      %=     \t|      a   %= b    \t|      a   = a % b    \t|\n",
    "|      **=    \t|     a   **= b    \t|     a   = a ** b    \t|\n"
   ]
  },
  {
   "attachments": {},
   "cell_type": "markdown",
   "metadata": {},
   "source": [
    "#### 복합 연산자 예시\n",
    "```python\n",
    "y = 10\n",
    "y -= 4\n",
    "print(y) # 6\n",
    "\n",
    "z = 7\n",
    "z *= 2\n",
    "print(z) # 14\n",
    "\n",
    "w = 15\n",
    "w /= 4\n",
    "print(w) # 3.75\n",
    "\n",
    "q = 20\n",
    "q //= 3\n",
    "print(q) # 6\n",
    "```"
   ]
  },
  {
   "attachments": {},
   "cell_type": "markdown",
   "metadata": {},
   "source": [
    "#### 실행 해보기"
   ]
  },
  {
   "cell_type": "code",
   "execution_count": null,
   "metadata": {},
   "outputs": [],
   "source": [
    "y = 10\n",
    "y -= 4\n",
    "print(y) \n",
    "\n",
    "z = 7\n",
    "z *= 2\n",
    "print(z) \n",
    "\n",
    "w = 15\n",
    "w /= 4\n",
    "print(w) \n",
    "\n",
    "q = 20\n",
    "q //= 3\n",
    "print(q) "
   ]
  },
  {
   "attachments": {},
   "cell_type": "markdown",
   "metadata": {},
   "source": [
    "### 비교 연산자\n",
    "\n",
    "|       기호      \t|         내용       \t|\n",
    "|:---------------:\t|:------------------:\t|\n",
    "|         <       \t|         미만       \t|\n",
    "|        <=       \t|         이하       \t|\n",
    "|         >       \t|         초과       \t|\n",
    "|        >=       \t|         이상       \t|\n",
    "|        ==       \t|         같음       \t|\n",
    "|        !=       \t|     같지   않음    \t|\n",
    "|        is       \t|         같음       \t|\n",
    "|     is   not    \t|     같지   않음    \t|"
   ]
  },
  {
   "attachments": {},
   "cell_type": "markdown",
   "metadata": {},
   "source": [
    "#### is 비교 연산자\n",
    "- 매모리 내에서 같은 객체를 참조하는지 확인\n",
    "- `==` 는 동등성(equality), `is` 는 식별성(identity)\n",
    "- 값을 비교하는 `==` 와 다름\n",
    "\n",
    "|       기호      \t|         내용       \t|\n",
    "|:---------------:\t|:------------------:\t|\n",
    "|         is      \t|         같음       \t|\n",
    "|        is not      |         같지 않음      | "
   ]
  },
  {
   "cell_type": "markdown",
   "metadata": {},
   "source": [
    "#### 비교 연산자 예시\n",
    "```python\n",
    "print(3 > 6)  # False\n",
    "print(2.0 == 2)  # True\n",
    "print(2 != 2)  # False\n",
    "print('HI' == 'hi')  # False\n",
    "print(1 == True)  # True\n",
    "\n",
    "# SyntaxWarning: \"is\" with a literal. Did you mean \"==\"?\n",
    "# ==은 값(데이터)을 비교하는 것이지만 is는 레퍼런스(주소)를 비교하기 때문\n",
    "# 아래 조건은 항상 False이기 때문에 is 대신 ==를 사용해야 한다는 것을 알림\n",
    "print(1 is True)  # False\n",
    "print(2 is 2.0)  # False\n",
    "```"
   ]
  },
  {
   "attachments": {},
   "cell_type": "markdown",
   "metadata": {},
   "source": [
    "#### 실행 해보기"
   ]
  },
  {
   "cell_type": "code",
   "execution_count": null,
   "metadata": {},
   "outputs": [],
   "source": [
    "# 실행 해보기 1\n",
    "print(3 > 6) # False\n",
    "print(2.0 == 2) # True\n",
    "print(2 != 2) # False\n",
    "print('HI' == 'hi') # False\n",
    "print(1 == True) # True\n",
    "\n",
    "# SyntaxWarning: \"is\" with a literal. Did you mean \"==\"?\n",
    "# ==은 값(데이터)을 비교하는 것이지만 is는 레퍼런스(주소)를 비교하기 때문\n",
    "# 아래 조건은 항상 False이기 때문에 is 대신 ==를 사용해야 한다는 것을 알림\n",
    "print(1 is True) # False\n",
    "print(2 is 2.0)  # False"
   ]
  },
  {
   "attachments": {},
   "cell_type": "markdown",
   "metadata": {},
   "source": [
    "### 논리 연산자\n",
    "\n",
    "|     기호    \t|      연산자     \t|                                        내용                                       \t|\n",
    "|:-----------:\t|:---------------:\t|:---------------------------------------------------------------------------------:\t|\n",
    "|      and    \t|      논리곱     \t|       두   피연산자 모두 True인   경우에만      전체   표현식을 True로   평가     \t|\n",
    "|      or     \t|      논리합     \t|     두   피연산자 중 하나라도 True인   경우      전체   표현식을 True로   평가    \t|\n",
    "|      not    \t|     논리부정    \t|                               단일   피연산자를 부정                              \t|\n"
   ]
  },
  {
   "attachments": {},
   "cell_type": "markdown",
   "metadata": {},
   "source": [
    "#### 논리 연산자 예시 (1/2)\n",
    "\n",
    "```python\n",
    "print(True and False) # False\n",
    "\n",
    "print(True or False) # True\n",
    "\n",
    "print(not True) # False\n",
    "\n",
    "print(not 0) # True\n",
    "```"
   ]
  },
  {
   "attachments": {},
   "cell_type": "markdown",
   "metadata": {},
   "source": [
    "#### 논리 연산자 예시 (2/2)\n",
    "- 비교 연산자와 함께 사용 가능\n",
    "\n",
    "    ```python\n",
    "    num = 15\n",
    "    result = (num > 10) and (num % 2 == 0)\n",
    "    print(result) # False\n",
    "\n",
    "\n",
    "    name = 'Alice'\n",
    "    age = 25\n",
    "    result = (name == 'Alice') or (age == 30)\n",
    "    print(result) # True\n",
    "    ```"
   ]
  },
  {
   "attachments": {},
   "cell_type": "markdown",
   "metadata": {},
   "source": [
    "#### 단축평가\n",
    "- 논리 연산에서 두 번째 피연산자를 평가하지 않고 결과를 결정하는 동작"
   ]
  },
  {
   "cell_type": "markdown",
   "metadata": {},
   "source": [
    "#### 단축평가 예시 문제\n",
    "\n",
    "```python\n",
    "vowels = 'aeiou'\n",
    "\n",
    "print(('a' and 'b') in vowels)  # False\n",
    "print(('b' and 'a') in vowels)  # True\n",
    "\n",
    "print(3 and 5)  # 5\n",
    "print(3 and 0)  # 0\n",
    "print(0 and 3)  # 0\n",
    "print(0 and 0)  # 0\n",
    "\n",
    "print(5 or 3)  # 5\n",
    "print(3 or 0)  # 3\n",
    "print(0 or 3)  # 3\n",
    "print(0 or 0)  # 0\n",
    "```"
   ]
  },
  {
   "attachments": {},
   "cell_type": "markdown",
   "metadata": {},
   "source": [
    "#### 단축평가 동작\n",
    "- and\n",
    "    - 첫 번째 피연산자가 False인 경우, 전체 표현식은 False로 결정. <br>두 번째 피연산자는 평가되지 않고 그 값이 무시\n",
    "    - 첫 번째 피연산자가 True인 경우, 전체 표현식의 결과는 두 번째 피연산자에 의해 결정. <br>두 번째 피연산자가 평가되고 그 결과가 전체 표현식의 결과로 반환\n",
    "- or\n",
    "    - 첫 번째 피연산자가 True인 경우, 전체 표현식은 True로 결정. <br>두 번째 피연산자는 평가되지 않고 그 값이 무시\n",
    "    - 첫 번째 피연산자가 False인 경우, 전체 표현식의 결과는 두 번째 피연산자에 의해 결정. <br>두 번째 피연산자가 평가되고 그 결과가 전체 표현식의 결과로 반환"
   ]
  },
  {
   "attachments": {},
   "cell_type": "markdown",
   "metadata": {},
   "source": [
    "#### 단축평가 이유\n",
    "- 코드 실행을 최적화하고, 불필요한 연산을 피할 수 있도록 함"
   ]
  },
  {
   "attachments": {},
   "cell_type": "markdown",
   "metadata": {},
   "source": [
    "### 멤버십 연산자\n",
    "- 특정 값이 시퀀스나 다른 컬렉션에 속하는지 여부를 확인\n",
    "\n",
    "|       기호      \t|                                    내용                                  \t|\n",
    "|:---------------:\t|:------------------------------------------------------------------------:\t|\n",
    "|        in       \t|        왼쪽   피연산자가 오른쪽 피연산자의 시퀀스에 속하는지를 확인      \t|\n",
    "|     not   in    \t|     왼쪽   피연산자가 오른쪽 피연산자의 시퀀스에 속하지 않는지를 확인    \t|"
   ]
  },
  {
   "attachments": {},
   "cell_type": "markdown",
   "metadata": {},
   "source": [
    "#### 멤버십 연산자 예시\n",
    "\n",
    "```python\n",
    "word = 'hello'\n",
    "numbers = [1, 2, 3, 4, 5]\n",
    "\n",
    "print('h' in word)  # True\n",
    "print('z' in word)  # False\n",
    "\n",
    "print(4 not in numbers)  # False\n",
    "print(6 not in numbers)  # True\n",
    "```"
   ]
  },
  {
   "attachments": {},
   "cell_type": "markdown",
   "metadata": {},
   "source": [
    "### 시퀀스형 연산자\n",
    "- `+` 와 `*` 는 시퀀스 간 연산에서 산술 연산자일때와 다른 역할을 가짐\n",
    "\n",
    "|     연산자    \t|          내용        \t|\n",
    "|:-------------:\t|:--------------------:\t|\n",
    "|        +      \t|     결합   연산자    \t|\n",
    "|        *      \t|     반복   연산자    \t|"
   ]
  },
  {
   "attachments": {},
   "cell_type": "markdown",
   "metadata": {},
   "source": [
    "#### 시퀀스형 연산자 예시\n",
    "\n",
    "```python\n",
    "# Gildong Hong\n",
    "print('Gildong' + ' Hong')\n",
    "\n",
    "# hihihihihi\n",
    "print('hi' * 5)\n",
    "\n",
    "# [1, 2, 'a', 'b']\n",
    "print([1, 2] + ['a', 'b'])\n",
    "\n",
    "# [1, 2, 1, 2]\n",
    "print([1, 2] * 2)\n",
    "```"
   ]
  },
  {
   "attachments": {},
   "cell_type": "markdown",
   "metadata": {},
   "source": [
    "### 연산자 우선순위\n",
    "\n",
    "|     우선순위    \t|             연산자            \t|               내용             \t|\n",
    "|:---------------:\t|:-----------------------------:\t|:------------------------------:\t|\n",
    "|       높음      \t|               ()              \t|        소괄호   grouping       \t|\n",
    "|                 \t|               []              \t|        인덱싱,   슬라이싱      \t|\n",
    "|                 \t|               **              \t|             거듭제곱           \t|\n",
    "|                 \t|             +,   -            \t|     단항   연산자 양수/음수    \t|\n",
    "|                 \t|          *,   /, //, %        \t|          산술   연산자         \t|\n",
    "|                 \t|             +,   -            \t|          산술   연산자         \t|\n",
    "|                 \t|     <,   <=, >, >=, ==, !=    \t|          비교   연산자         \t|\n",
    "|                 \t|          is,   is not         \t|           객체   비교          \t|\n",
    "|                 \t|          in,   not in         \t|         멤버십   연산자        \t|\n",
    "|                 \t|               not             \t|           논리   부정          \t|\n",
    "|                 \t|               and             \t|            논리   AND          \t|\n",
    "|       낮음      \t|               or              \t|            논리   OR           \t|\n"
   ]
  }
 ],
 "metadata": {
  "kernelspec": {
   "display_name": "Python 3",
   "language": "python",
   "name": "python3"
  },
  "language_info": {
   "codemirror_mode": {
    "name": "ipython",
    "version": 3
   },
   "file_extension": ".py",
   "mimetype": "text/x-python",
   "name": "python",
   "nbconvert_exporter": "python",
   "pygments_lexer": "ipython3",
   "version": "3.9.12"
  },
  "orig_nbformat": 4
 },
 "nbformat": 4,
 "nbformat_minor": 2
}
