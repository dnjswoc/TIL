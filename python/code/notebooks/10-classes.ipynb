{
 "cells": [
  {
   "attachments": {},
   "cell_type": "markdown",
   "metadata": {},
   "source": [
    "# Classes"
   ]
  },
  {
   "attachments": {},
   "cell_type": "markdown",
   "metadata": {},
   "source": [
    "## 객체지향 프로그래밍"
   ]
  },
  {
   "attachments": {},
   "cell_type": "markdown",
   "metadata": {},
   "source": [
    "### 개요\n",
    "#### 절차 지향 프로그래밍 `Procedural Programming`\n",
    "- 프로그램을 ‘데이터’와 ‘절차’로 구성하는 방식의 프로그래밍 패러다임\n"
   ]
  },
  {
   "attachments": {},
   "cell_type": "markdown",
   "metadata": {},
   "source": [
    "##### 절차 지향 프로그래밍 특징\n",
    "- “데이터”와 해당 데이터를 처리하는 “함수(절차)”가 분리되어 있으며, <br>함수 호출의 흐름이 중요\n",
    "- 코드의 순차적인 흐름과 함수 호출에 의해 프로그램이 진행\n",
    "- 실제로 실행되는 내용이 무엇이 무엇인가가 중요\n",
    "- 데이터를 다시 재사용하거나 하기보다는 처음부터 끝까지 실행되는 결과물이 중요한 방식\n",
    "\n",
    "![image](https://github.com/ragu6963/TIL/assets/32388270/cc0db5a1-8200-409b-8b90-c42ea7823c71)\n",
    "\n"
   ]
  },
  {
   "attachments": {},
   "cell_type": "markdown",
   "metadata": {},
   "source": [
    "#### 소프트웨어 위기(Software Crisis)\n",
    "- 하드웨어의 발전으로 컴퓨터 계산용량과 문제의 복잡성이 급격히 <br>증가함에 따라 소프트웨어에 발생한 충격\n",
    "![image](https://github.com/ragu6963/TIL/assets/32388270/e251d24f-781d-46ca-b6dd-56f1c2c8e9d1)\n"
   ]
  },
  {
   "attachments": {},
   "cell_type": "markdown",
   "metadata": {},
   "source": [
    "#### 객체 지향 프로그래밍 `Object Oriented Programming`\n",
    "- 데이터와 해당 데이터를 조작하는 메서드를 하나의 객체로 묶어 관리하는 방식의 프로그래밍 패러다임\n"
   ]
  },
  {
   "attachments": {},
   "cell_type": "markdown",
   "metadata": {},
   "source": [
    "#### 절차 지향 vs 객체 지향\n",
    "- 절차 지향\n",
    "    - 데이터와 해당 데이터를 처리하는 함수(절차)가 분리\n",
    "    - 함수 호출의 흐름이 중요\n",
    "\n",
    "    ![image](https://github.com/ragu6963/TIL/assets/32388270/f84ff2d6-f73e-4105-9528-ad17a7e7174d)\n",
    "    \n",
    "- 객체 지향\n",
    "    - 데이터와 해당 데이터를 처리하는 메서드(메시지)를 하나의 객체(클래스)로 묶음\n",
    "    - 객체 간 상호작용과 메시지 전달이 중요\n",
    "    \n",
    "    ![image](https://github.com/ragu6963/TIL/assets/32388270/7430654c-d52d-4cf8-9ae4-af83f38369b8)"
   ]
  },
  {
   "attachments": {},
   "cell_type": "markdown",
   "metadata": {},
   "source": [
    "## 객체\n",
    "### 개요\n",
    "#### 클래스 `Class`\n",
    "- 파이썬에서 타입을 표현하는 방법\n",
    "- 객체를 생성하기 위한 설계도\n",
    "- 데이터와 기능을 함께 묶는 방법을 제공\n",
    "\n",
    "![image](https://github.com/ragu6963/TIL/assets/32388270/2f87ae3c-ce62-4a81-983e-06073f5f9745)"
   ]
  },
  {
   "attachments": {},
   "cell_type": "markdown",
   "metadata": {},
   "source": [
    "#### 객체 `Object`\n",
    "- 클래스에서 정의한 것을 토대로 메모리에 할당된 것\n",
    "- <span style='color:red;'>‘속성’</span>과 <span style='color:red;'>‘행동’</span>으로 구성된 모든 것"
   ]
  },
  {
   "attachments": {},
   "cell_type": "markdown",
   "metadata": {},
   "source": [
    "#### 객체 예시\n",
    "![image](https://github.com/ragu6963/TIL/assets/32388270/1e728c44-90e5-4acc-99bb-a4ab1998c3b9)"
   ]
  },
  {
   "attachments": {},
   "cell_type": "markdown",
   "metadata": {},
   "source": [
    "#### 클래스와 객체\n",
    "- 클래스로 만든 객체를 <span style='color:red;'>인스턴스</span> 라고 부름\n",
    "    ![image](https://github.com/ragu6963/TIL/assets/32388270/f3447cce-fcab-4f66-81da-3047c77df12b)\n",
    "\n",
    "\n",
    "- 변수 name의 타입은 str 클래스다.\n",
    "- 변수 name은 <span style='color:red;'>str 클래스의 인스턴스</span>이다.\n",
    "- 우리가 사용해왔던 <span style='color:red;'>데이터 타입은 사실 모두 클래스</span>였다.\n",
    "    ```py\n",
    "    name = 'Alice'\n",
    "\n",
    "    print(type(name))  # <class 'str'>\n",
    "    ```\n",
    "- 결국 문자열 타입의 변수는 str 클래스로 만든 인스턴스다.\n",
    "    ```py\n",
    "    print(help(str))\n",
    "\n",
    "    \"\"\"\n",
    "    class str(object)\n",
    "     |  str(object='') -> str\n",
    "     |  str(bytes_or_buffer[, encoding[, errors]]) -> str\n",
    "     |\n",
    "     |  Create a new string object from the given object. If encoding or\n",
    "     |  errors is specified, then the object must expose a data buffer\n",
    "     |  that will be decoded using the given encoding and error handler.\n",
    "     |  Otherwise, …\n",
    "    \"\"\"\n",
    "    ```\n"
   ]
  },
  {
   "attachments": {},
   "cell_type": "markdown",
   "metadata": {},
   "source": [
    "#### 인스턴스와 메서드\n",
    " \n",
    "```py\n",
    "“hello”.upper()\n",
    "\n",
    "\"\"\"\n",
    "문자열.대문자로()\n",
    "\n",
    "객체.행동()\n",
    "\n",
    "인스턴스.메서드()\n",
    "\"\"\"\n",
    "```\n",
    "\n",
    "```py\n",
    "[1, 2, 3].sort()\n",
    "\n",
    "\"\"\"\n",
    "리스트.정렬해()\n",
    "\n",
    "객체.행동()\n",
    "\n",
    "인스턴스.메서드()\n",
    "\"\"\"\n",
    "```\n",
    "\n",
    "> 하나의 객체(object)는 특정 타입의 인스턴스(instance)이다. \n",
    "- 123, 900, 5는 모두 `int`의 인스턴스\n",
    "- 'hello', 'bye'는 모두 `string`의 인스턴스\n",
    "- [232, 89, 1], []은 모두 `list`의 인스턴스\n",
    "\n"
   ]
  },
  {
   "attachments": {},
   "cell_type": "markdown",
   "metadata": {},
   "source": [
    "#### 객체(object)의 특징\n",
    "- 타입(type) : 어떤 연산자(operator)와 조작(method)이 가능한가?\n",
    "- 속성(attribute) : 어떤 상태(데이터)를 가지는가?\n",
    "- 조작법(method) : 어떤 행위(함수)를 할 수 있는가?\n",
    "\n",
    "    ![image](https://github.com/ragu6963/TIL/assets/32388270/dfed70e3-bc37-45ef-988a-b6becc4806b8)\n"
   ]
  },
  {
   "attachments": {},
   "cell_type": "markdown",
   "metadata": {},
   "source": [
    "## 클래스\n",
    "### 개요\n",
    "#### 클래스 `Class`\n",
    "- 파이썬에서 타입을 표현하는 방법\n",
    "- 객체를 생성하기 위한 설계도\n",
    "- 데이터와 기능을 함께 묶는 방법을 제공\n"
   ]
  },
  {
   "attachments": {},
   "cell_type": "markdown",
   "metadata": {},
   "source": [
    "#### 클래스 정의\n",
    "```py\n",
    "# 클래스 정의\n",
    "class Person:\n",
    "    pass\n",
    "```\n",
    "\n",
    "#### 인스턴스 생성 및 활용\n",
    "\n",
    "```python\n",
    "# 인스턴스 생성\n",
    "iu = Person()\n",
    "\n",
    "# 메서드 호출\n",
    "iu.메서드()\n",
    "\n",
    "# 속성(변수) 접근\n",
    "iu.attribute\n",
    "```"
   ]
  },
  {
   "attachments": {},
   "cell_type": "markdown",
   "metadata": {},
   "source": [
    "\n",
    "```py\n",
    "# 클래스 정의\n",
    "class Person:\n",
    "    blood_color = 'red'\n",
    "\n",
    "    def __init__(self, name):\n",
    "        self.name = name\n",
    "\n",
    "    def singing(self):\n",
    "        return f'{self.name}가 노래합니다.'\n",
    "\n",
    "\n",
    "# 인스턴스 생성\n",
    "singer1 = Person('iu')\n",
    "\n",
    "# 메서드 호출\n",
    "print(singer1.singing())  # iu가 노래합니다.\n",
    "\n",
    "# 속성(변수) 접근\n",
    "print(singer1.blood_color)  # red\n",
    "```"
   ]
  },
  {
   "cell_type": "markdown",
   "metadata": {},
   "source": [
    "### 클래스 구성요소\n",
    "1. 생성자 함수\n",
    "    - 객체를 생성할 때 자동으로 호출되는 특별한 메서드\n",
    "    - `__init__`이라는 이름의 메서드로 정의되며, 객체의 초기화를 담당\n",
    "    - 생성자 함수를 통해 인스턴스를 생성하고 필요한 초기값을 설정\n",
    "\n",
    "    ```py\n",
    "    class Person:\n",
    "        blood_color = 'red'\n",
    "        \n",
    "        def __init__(self, name):\n",
    "            self.name = name\n",
    "\n",
    "        def singing(self):\n",
    "            return f'{self.name}가 노래합니다.’\n",
    "        \n",
    "\n",
    "    # 인스턴스 생성\n",
    "    singer1 = Person('iu')\n",
    "    ```"
   ]
  },
  {
   "cell_type": "markdown",
   "metadata": {},
   "source": [
    "2. 인스턴스 변수\n",
    "    - 인스턴스(객체)마다 별도로 유지되는 변수\n",
    "    - 인스턴스마다 독립적인 값을 가지며, 인스턴스가 생성될 때마다 초기화됨\n",
    "\n",
    "    ```py\n",
    "    class Person:\n",
    "        blood_color = 'red'\n",
    "        \n",
    "        def __init__(self, name):\n",
    "            self.name = name\n",
    "\n",
    "        def singing(self):\n",
    "            return f'{self.name}가 노래합니다.’\n",
    "\n",
    "\n",
    "    singer1 = Person('iu')\n",
    "    \n",
    "    # 인스턴스 변수\n",
    "    print(singer1.name)\n",
    "    ```"
   ]
  },
  {
   "attachments": {},
   "cell_type": "markdown",
   "metadata": {},
   "source": [
    "3. 클래스 변수\n",
    "    - 클래스 내부에 선언된 변수\n",
    "    - 클래스로 생성된 모든 인스턴스들이 공유하는 변수\n",
    "\n",
    "    ```py\n",
    "    class Person:\n",
    "        blood_color = 'red'\n",
    "        \n",
    "        def __init__(self, name):\n",
    "            self.name = name\n",
    "\n",
    "        def singing(self):\n",
    "            return f'{self.name}가 노래합니다.’\n",
    "\n",
    "\n",
    "    singer1 = Person('iu')\n",
    "\n",
    "    # 클래스 속성(변수) 접근\n",
    "    print(singer1.blood_color)\n",
    "\n",
    "    ```"
   ]
  },
  {
   "attachments": {},
   "cell_type": "markdown",
   "metadata": {},
   "source": [
    "4. 인스턴스 메서드\n",
    "    - 각각의 인스턴스에서 호출할 수 있는 메서드\n",
    "    - 인스턴스 변수에 접근하고 수정하는 등의 작업을 수행\n",
    "\n",
    "    ```py\n",
    "    class Person:\n",
    "        blood_color = 'red'\n",
    "\n",
    "        def __init__(self, name):\n",
    "            self.name = name\n",
    "\n",
    "        def singing(self):\n",
    "            return f'{self.name}가 노래합니다.'\n",
    "\n",
    "\n",
    "    singer1 = Person('iu')\n",
    "\n",
    "    # 인스턴스 메서드 호출\n",
    "    print(singer1.singing())\n",
    "    ```"
   ]
  },
  {
   "attachments": {},
   "cell_type": "markdown",
   "metadata": {},
   "source": [
    "### 인스턴스 변수와 클래스 변수\n",
    "#### 클래스 변수 활용\n",
    "- 가수가 몇 명인지 확인하고 싶다면?\n",
    "    - 인스턴스가 생성 될 때마다 클래스 변수가 늘어나도록 설정할 수 있음\n",
    "    ```py\n",
    "    class Person:\n",
    "        count = 0\n",
    "        \n",
    "        def __init__(self, name):\n",
    "            self.name = name\n",
    "            Person.count += 1\n",
    "        \n",
    "        \n",
    "    person1 = Person('iu')\n",
    "    person2 = Person('BTS')\n",
    "        \n",
    "    print(Person.count)  # 2\n",
    "    ```\n",
    "\n"
   ]
  },
  {
   "attachments": {},
   "cell_type": "markdown",
   "metadata": {},
   "source": [
    "#### 클래스 변수와 인스턴스 변수\n",
    "- 클래스 변수를 변경할 때는 항상 <span style='color:red;'>클래스.클래스변수</span> 형식으로 변경\n",
    "- 예시 1\n",
    "\n",
    "    ```py\n",
    "    \n",
    "    class Circle:\n",
    "    pi = 3.14\n",
    "\n",
    "    def __init__(self, r):\n",
    "        self.r = r\n",
    "\n",
    "\n",
    "    c1 = Circle(5)\n",
    "    c2 = Circle(10)\n",
    "    print(Circle.pi)  # 3.14\n",
    "    print(c1.pi)  # 3.14\n",
    "    print(c2.pi)  # 3.14 \n",
    "    ```\n",
    "- 예시 2\n",
    "\n",
    "    ```py\n",
    "    \n",
    "    class Circle:\n",
    "        pi = 3.14\n",
    "\n",
    "        def __init__(self, r):\n",
    "            self.r = r \n",
    "\n",
    "\n",
    "    c1 = Circle(5)\n",
    "    c2 = Circle(10)\n",
    "\n",
    "    Circle.pi = 5  # 클래스 변수 변경\n",
    "    print(Circle.pi)  # 5\n",
    "    print(c1.pi)  # 5\n",
    "    print(c2.pi)  # 5 \n",
    "    ```\n",
    "\n",
    "- 예시 3 \n",
    "\n",
    "    ```py\n",
    "    \n",
    "    class Circle:\n",
    "        pi = 3.14\n",
    "\n",
    "        def __init__(self, r):\n",
    "            self.r = r \n",
    "\n",
    "\n",
    "    c1 = Circle(5)\n",
    "    c2 = Circle(10)\n",
    "    c2.pi = 5  # 인스턴스 변수 변경\n",
    "    \n",
    "    print(Circle.pi)  # 3.14 (클래스 변수)\n",
    "    print(c1.pi)  # 3.14 (클래스 변수)\n",
    "    print(c2.pi)  # 5 (새로운 인스턴스 변수가 생성됨)\n",
    "    ```\n"
   ]
  },
  {
   "attachments": {},
   "cell_type": "markdown",
   "metadata": {},
   "source": [
    "## 메서드\n",
    "### 개요\n",
    "#### 메서드 종류\n",
    "- 인스턴스 메서드\n",
    "- 클래스 메서드\n",
    "- 정적 메서드\n",
    "\n",
    "    ![image](https://github.com/ragu6963/TIL/assets/32388270/c1c62879-9386-4b84-a4ab-d6d41aa56ad8)\n"
   ]
  },
  {
   "attachments": {},
   "cell_type": "markdown",
   "metadata": {},
   "source": [
    "### 인스턴스 메서드\n",
    "#### 인스턴스 메서드 `instance method`\n",
    "- 클래스로부터 생성된 각 인스턴스에서 호출할 수 있는 메서드\n",
    "- 인스턴스의 상태를 조작하거나 동작을 수행\n"
   ]
  },
  {
   "cell_type": "markdown",
   "metadata": {},
   "source": [
    "#### 인스턴스 메서드 구조\n",
    "- 클래스 내부에 정의되는 메서드의 기본\n",
    "- 반드시 첫 번째 매개변수로 <span style='color:red;'>인스턴스 자신(`self`)</span>을 전달받음\n",
    "- self는 매개변수 이름일 뿐이며 다른 이름으로 설정 가능 하지만 다른 이름을 사용하지 않을 것을 강력히 권장\n",
    "\n",
    "\n",
    "    ```py\n",
    "    class MyClass:\n",
    "\n",
    "        def instance_method(self, arg1, ...):\n",
    "            pass\n",
    "    ```"
   ]
  },
  {
   "attachments": {},
   "cell_type": "markdown",
   "metadata": {},
   "source": [
    "#### self 동작 원리\n",
    "- upper 메서드를 사용해 문자열 ‘hello’를 대문자로 변경하기\n",
    "    ```py\n",
    "    'hello'.upper()\n",
    "    ```\n",
    "\n",
    "- 하지만 실제 파이썬 내부 동작은 다음과 같이 진행됨\n",
    "    ```py\n",
    "    str.upper('hello')\n",
    "    ```\n",
    "\n",
    "- str 클래스가 upper 메서드를 호출했고, 그 첫번째 인자로 문자열 인스턴스가 들어간 것\n",
    "\n",
    "- <span style='color:red;'>인스턴스 메서드의 첫번째 매개변수가 반드시 인스턴스 자기 자신인 이유</span>\n",
    "\n",
    "- `'hello'.upper()` 은 `str.upper('hello')`를 객체 지향 방식의 메서드로 호출하는 표현 (`단축형 호출`)\n",
    "\n",
    "- ‘hello’라는 문자열 객체가 단순히 어딘가의 함수로 들어가는 인자가 아닌 객체 스스로 메서드를 호출하여 코드를 동작하는 객체 지향적 표현\n"
   ]
  },
  {
   "attachments": {},
   "cell_type": "markdown",
   "metadata": {},
   "source": [
    "#### 생성자 메서드 `constructor method`\n",
    "- 인스턴스 객체가 생성될 때 자동으로 호출되는 메서드\n",
    "- 인스턴스 변수들의 초기값을 설정\n",
    "\n"
   ]
  },
  {
   "cell_type": "markdown",
   "metadata": {},
   "source": [
    "#### 생성자 메서드 구조\n",
    "```py\n",
    "class Person:\n",
    "    def __init__(self, name):\n",
    "        self.name = name\n",
    "        print('인스턴스가 생성되었습니다.')\n",
    "\n",
    "    def greeting(self):\n",
    "        print(f'안녕하세요. {self.name}입니다.')\n",
    "\n",
    "person1 = Person('지민')  # 인스턴스가 생성되었습니다.\n",
    "person1.greeting()  # 안녕하세요. 지민입니다.\n",
    "```"
   ]
  },
  {
   "attachments": {},
   "cell_type": "markdown",
   "metadata": {},
   "source": [
    "### 클래스 메서드\n",
    "#### 클래스 메서드 `class method`\n",
    "- 클래스가 호출하는 메서드\n",
    "- 클래스 변수를 조작하거나 클래스 레벨의 동작을 수행\n"
   ]
  },
  {
   "cell_type": "markdown",
   "metadata": {},
   "source": [
    "#### 클래스 메서드 구조\n",
    "- `@classmethod` 데코레이터를 사용하여 정의\n",
    "- 호출 시, 첫번째 인자로 호출하는 클래스(`cls`)가 전달됨\n",
    "- cls는 매개변수 이름일 뿐이며 다른 이름으로 설정 가능 하지만 다른 이름을 사용하지 않을 것을 강력히 권장\n",
    "\n",
    "    ```py\n",
    "    class MyClass:\n",
    "        \n",
    "        @classmethod\n",
    "        def class_method(cls, arg1, ...):\n",
    "            pass\n",
    "\n",
    "    ```\n"
   ]
  },
  {
   "attachments": {},
   "cell_type": "markdown",
   "metadata": {},
   "source": [
    "#### 클래스 메서드 예시\n",
    "```py\n",
    "class Person:\n",
    "    count = 0\n",
    "\n",
    "    def __init__(self, name):\n",
    "        self.name = name\n",
    "        Person.count += 1\n",
    "\n",
    "    @classmethod\n",
    "    def number_of_population(cls):\n",
    "        print(f'인구수는 {cls.count}입니다.')\n",
    "\n",
    "\n",
    "person1 = Person('iu')\n",
    "person2 = Person('BTS')\n",
    "\n",
    "Person.number_of_population() # 인구수는 2입니다.\n",
    "```"
   ]
  },
  {
   "attachments": {},
   "cell_type": "markdown",
   "metadata": {},
   "source": [
    "### 스태틱 메서드\n",
    "#### 스태틱(정적) 메서드 `static method`\n",
    "- 클래스와 인스턴스와 상관없이 독립적으로 동작하는 메서드\n",
    "- 주로 클래스와 관련이 있지만 인스턴스와 상호작용이 필요하지 않은 경우에 사용\n"
   ]
  },
  {
   "attachments": {},
   "cell_type": "markdown",
   "metadata": {},
   "source": [
    "#### 스태틱 메서드 구조\n",
    "- `@staticmethod` 데코레이터를 사용하여 정의\n",
    "- 호출 시 필수적으로 작성해야 할 매개변수가 없음\n",
    "- 즉, 객체 상태나 클래스 상태를 수정할 수 없으며 단지 기능(행동)만을 위한 메서드로 사용\n",
    "\n",
    "    ```py\n",
    "    class MyClass:\n",
    "        \n",
    "        @staticmethod\n",
    "        def static_method(arg1, ...):\n",
    "            pass\n",
    "    ```\n"
   ]
  },
  {
   "cell_type": "markdown",
   "metadata": {},
   "source": [
    "#### 스태틱 메서드 예시\n",
    "\n",
    "- 단순히 문자열을 조작하는 기능을 제공하는 메서드 예시\n",
    "\n",
    "\n",
    "    ```py\n",
    "    class StringUtils:\n",
    "        @staticmethod\n",
    "        def reverse_string(string):\n",
    "            return string[::-1]\n",
    "\n",
    "        @staticmethod\n",
    "        def capitalize_string(string):\n",
    "            return string.capitalize()\n",
    "\n",
    "\n",
    "    text = 'hello, world'\n",
    "\n",
    "    reversed_text = StringUtils.reverse_string(text)\n",
    "    print(reversed_text) # dlrow ,olleh\n",
    "\n",
    "    capitalized_text = StringUtils.capitalize_string(text)\n",
    "    print(capitalized_text) # Hello, world\n",
    "\n",
    "    ```"
   ]
  },
  {
   "attachments": {},
   "cell_type": "markdown",
   "metadata": {},
   "source": [
    "### 메서드 정리\n",
    "#### 메서드 정리\n",
    "- 인스턴스 메서드\n",
    "    - 인스턴스의 상태를 변경하거나, 해당 인스턴스의 특정 동작을 수행\n",
    "\n",
    "- 클래스 메서드\n",
    "    - 인스턴스의 상태에 의존하지 않는 기능을 정의\n",
    "    - 클래스 변수를 조작하거나 클래스 레벨의 동작을 수행\n",
    "\n",
    "- 스태틱 메서드\n",
    "    - 클래스 및 인스턴스와 관련이 없는 일반적인 기능을 수행"
   ]
  },
  {
   "cell_type": "markdown",
   "metadata": {},
   "source": [
    "#### 누가 어떤 메서드를 사용해야 할까 \n",
    "- 클래스가 사용해야 할 것\n",
    "    - 클래스 메서드\n",
    "    - 스태틱 메서드\n",
    "\n",
    "- 인스턴스가 사용해야 할 것\n",
    "    - 인스턴스 메서드\n"
   ]
  },
  {
   "cell_type": "markdown",
   "metadata": {},
   "source": [
    "- 예시 클래스로 클래스와 인스턴스가 각각 모든 메서드를 호출해보기\n",
    "\n",
    "    ```py\n",
    "    class MyClass:\n",
    "\n",
    "        def instance_method(self):\n",
    "            return 'instance method', self\n",
    "            \n",
    "        @classmethod\n",
    "        def class_method(cls):\n",
    "            return 'class method', cls\n",
    "\n",
    "        @staticmethod\n",
    "        def static_method():\n",
    "            return 'static method'\n",
    "    ```\n"
   ]
  },
  {
   "attachments": {},
   "cell_type": "markdown",
   "metadata": {},
   "source": [
    "#### 클래스가 할 수 있는 것\n",
    "- 클래스는 모든 메서드를 호출 할 수 있음\n",
    "- <span style='color:red;'>하지만 클래스는 클래스 메서드와 스태틱 메서드만 사용하도록 한다</span>\n",
    "\n",
    "    ```py\n",
    "    instance = MyClass()\n",
    "\n",
    "    print(MyClass.instance_method(instance))  # ('instance method', <__main__.MyClass object at0x…028F10>)\n",
    "    print(MyClass.class_method())  # ('class method', <class '__main__.MyClass'>)\n",
    "    print(MyClass.static_method())  # static method\n",
    "    ```\n",
    "\n"
   ]
  },
  {
   "attachments": {},
   "cell_type": "markdown",
   "metadata": {},
   "source": [
    "#### 인스턴스가 할 수 있는 것\n",
    "- 인스턴스는 모든 메서드를 호출 할 수 있음\n",
    "- <span style='color:red;'>하지만 인스턴스는 인스턴스 메서드만 사용하도록 한다</span>\n",
    "\n",
    "    ```py\n",
    "    instance = MyClass()\n",
    "\n",
    "    print(instance.instance_method())  # ('instance method', <__main__.MyClass object at 0x0000…84EAF10>)\n",
    "    print(instance.class_method())  # ('class method', <class '__main__.MyClass'>)\n",
    "    print(instance.static_method())  # static method\n",
    "    ```"
   ]
  },
  {
   "attachments": {},
   "cell_type": "markdown",
   "metadata": {},
   "source": [
    "#### `할 수 있다 != 써도 된다`\n",
    "- 각자의 메서드는 OOP 패러다임에 따라 명확한 목적에 맞게 설계된 것이기 때문에 클래스와 인스턴스 각각 올바른 메서드만 사용한다.\n"
   ]
  },
  {
   "attachments": {},
   "cell_type": "markdown",
   "metadata": {},
   "source": [
    "## 상속\n",
    "### 개요\n",
    "#### 상속 `Inheritance`\n",
    "- 기존 클래스의 속성과 메서드를 물려받아 새로운 하위 클래스를 생성하는 것\n"
   ]
  },
  {
   "attachments": {},
   "cell_type": "markdown",
   "metadata": {},
   "source": [
    "#### 상속이 필요한 이유\n",
    "1. 코드 재사용\n",
    "    - 상속을 통해 기존 클래스의 속성과 메서드를 재사용할 수 있음\n",
    "    - 새로운 클래스를 작성할 때 기존 클래스의 기능을 그대로 활용할 수 있으며, 중복된 코드를 줄일 수 있음\n",
    "2. 계층 구조\n",
    "    - 상속을 통해 클래스들 간의 계층 구조를 형성할 수 있음\n",
    "    - 부모 클래스와 자식 클래스 간의 관계를 표현하고, 더 구체적인 클래스를 만들 수 있음\n",
    "3. 유지 보수의 용이성\n",
    "    - 상속을 통해 기존 클래스의 수정이 필요한 경우, 해당 클래스만 수정하면 되므로 유지 보수가 용이해짐 \n",
    "    - 코드의 일관성을 유지하고, 수정이 필요한 범위를 최소화할 수 있음\n",
    "\n",
    "    ![image](https://github.com/ragu6963/TIL/assets/32388270/f259eed5-c629-4a42-b0cc-4896162169c8)\n"
   ]
  },
  {
   "attachments": {},
   "cell_type": "markdown",
   "metadata": {},
   "source": [
    "### 클래스 상속"
   ]
  },
  {
   "attachments": {},
   "cell_type": "markdown",
   "metadata": {},
   "source": [
    "#### 상속 없이 구현 하는 경우 (1/2)\n",
    "- 학생/교수 정보를 나타내기 어려움\n",
    "\n",
    "    ```py\n",
    "    class Person:\n",
    "        def __init__(self, name, age):\n",
    "            self.name = name\n",
    "            self.age = age\n",
    "\n",
    "        def talk(self):\n",
    "            print(f'반갑습니다. {self.name}입니다.')\n",
    "\n",
    "\n",
    "    s1 = Person('김학생', 23)\n",
    "    s1.talk() # 반갑습니다. 김학생입니다.\n",
    "\n",
    "    p1 = Person('박교수', 59)\n",
    "    p1.talk() # 반갑습니다. 박교수입니다.\n",
    "    ```\n"
   ]
  },
  {
   "cell_type": "markdown",
   "metadata": {},
   "source": [
    "#### 상속 없이 구현 하는 경우 (2/2)\n",
    "- 교수/학생 클래스로 분리 했지만 메서드가 중복으로 정의될 수 있음\n",
    "\n",
    "\n",
    "    ```py\n",
    "    class Professor:\n",
    "        def __init__(self, name, age, department):\n",
    "            self.name = name\n",
    "            self.age = age\n",
    "            self.department = department\n",
    "\n",
    "        def talk(self): # 중복\n",
    "            print(f'반갑습니다. {self.name}입니다.')\n",
    "\n",
    "    class Student:\n",
    "        def __init__(self, name, age, gpa):\n",
    "            self.name = name\n",
    "            self.age = age\n",
    "            self.gpa = gpa\n",
    "\n",
    "        def talk(self): # 중복\n",
    "            print(f'반갑습니다. {self.name}입니다.')\n",
    "    ```\n"
   ]
  },
  {
   "attachments": {},
   "cell_type": "markdown",
   "metadata": {},
   "source": [
    "#### 상속을 사용한 계층구조 변경\n",
    "\n",
    "![image](https://github.com/ragu6963/TIL/assets/32388270/ecdca0f0-47ce-4afc-853d-fa0d4575b458)\n",
    "\n",
    "```py\n",
    "class Person:\n",
    "    def __init__(self, name, age):\n",
    "        self.name = name\n",
    "        self.age = age\n",
    "\n",
    "    def talk(self):  # 메서드 재사용\n",
    "        print(f'반갑습니다. {self.name}입니다.')\n",
    "\n",
    "\n",
    "class Professor(Person):\n",
    "    def __init__(self, name, age, department):\n",
    "        self.name = name\n",
    "        self.age = age\n",
    "        self.department = department\n",
    "\n",
    "\n",
    "class Student(Person):\n",
    "    def __init__(self, name, age, gpa):\n",
    "        self.name = name\n",
    "        self.age = age\n",
    "        self.gpa = gpa\n",
    "\n",
    "\n",
    "p1 = Professor('박교수', 49, '컴퓨터공학과')\n",
    "s1 = Student('김학생', 20, 3.5)\n",
    "\n",
    "# 부모 Person 클래스의 talk 메서드를 활용\n",
    "p1.talk() # 반갑습니다. 박교수입니다.\n",
    "\n",
    "# 부모 Person 클래스의 talk 메서드를 활용\n",
    "s1.talk() # 반갑습니다. 김학생입니다.\n",
    "```\n"
   ]
  },
  {
   "cell_type": "markdown",
   "metadata": {},
   "source": [
    "### 다중 상속\n",
    "#### 다중 상속 정의\n",
    "- 둘 이상의 상위 클래스로부터 여러 행동이나 특징을 상속받을 수 있는 것\n",
    "- 상속받은 모든 클래스의 요소를 활용 가능함\n",
    "- 중복된 속성이나 메서드가 있는 경우 <span style='color:crimson;'>상속 순서에 의해 결정</span>됨"
   ]
  },
  {
   "attachments": {},
   "cell_type": "markdown",
   "metadata": {},
   "source": [
    "#### 다중 상속 예시\n",
    "```py\n",
    "class Person:\n",
    "    def __init__(self, name):\n",
    "        self.name = name\n",
    "\n",
    "    def greeting(self):\n",
    "        return f'안녕, {self.name}'\n",
    "\n",
    "\n",
    "class Mom(Person):\n",
    "    gene = 'XX'\n",
    "\n",
    "    def swim(self):\n",
    "        return '엄마가 수영'\n",
    "\n",
    "\n",
    "class Dad(Person):\n",
    "    gene = 'XY'\n",
    "\n",
    "    def walk(self):\n",
    "        return '아빠가 걷기'\n",
    "\n",
    "\n",
    "class FirstChild(Dad, Mom):\n",
    "    def swim(self):\n",
    "        return '첫째가 수영'\n",
    "\n",
    "    def cry(self):\n",
    "        return '첫째가 응애'\n",
    "\n",
    "\n",
    "baby1 = FirstChild('아가')\n",
    "print(baby1.cry()) # 첫째가 응애\n",
    "print(baby1.swim()) # 첫째가 수영\n",
    "print(baby1.walk()) # 아빠가 걷기\n",
    "print(baby1.gene) # XY\n",
    "```"
   ]
  },
  {
   "cell_type": "markdown",
   "metadata": {},
   "source": [
    "#### 다이아몬드 문제\n",
    "![Diamond](https://i.ibb.co/b23YqZT/440px-Diamond-inheritanc.png)\n",
    "\n",
    "- 두 클래스 B와 C가 A에서 상속되고 클래스 D가 B와 C 모두에서 상속될 때 발생하는 모호함\n",
    "- B와 C가 재정의한 메서드가 A에 있고 D가 이를 재정의하지 않은 경우라면\n",
    "- D는 B의 메서드 중 어떤 버전을 상속하는가? 아니면 C의 메서드 버전을 상속하는가?\n"
   ]
  },
  {
   "cell_type": "markdown",
   "metadata": {},
   "source": [
    "#### 파이썬에서의 해결책\n",
    "\n",
    "- MRO(Method Resolution Order) 알고리즘을 사용하여 클래스 목록을 생성\n",
    "- 부모 클래스로부터 상속된 속성들의 검색을 깊이 우선으로, 왼쪽에서 오른쪽으로, 계층 구조에서 겹치는 같은 클래스를 두 번 검색하지 않음\n",
    "- 그래서, 속성이 D 에서 발견되지 않으면, B 에서 찾고, 거기에서도 발견되지 않으면, C 에서 찾고, 이런 식으로 진행됨\n",
    "\n",
    "    ```python\n",
    "    class D(B, C):\n",
    "        pass\n",
    "    ```"
   ]
  },
  {
   "cell_type": "markdown",
   "metadata": {},
   "source": [
    "#### MRO (Method Resolution Order)\n",
    "- 메서드 결정 순서"
   ]
  },
  {
   "cell_type": "markdown",
   "metadata": {},
   "source": [
    "#### `super()`\n",
    "- 부모 클래스 객체를 반환하는 내장 함수\n",
    "- 다중 상속 시 MRO를 기반으로 현재 클래스가 상속하는 모든 부모 클래스 중 다음에 호출될 메서드를 결정하여 자동으로 호출\n"
   ]
  },
  {
   "cell_type": "markdown",
   "metadata": {},
   "source": [
    "#### super() 사용 예시 (단일 상속)\n",
    "\n",
    "- 사용 전\n",
    "\n",
    "    ```py\n",
    "    class Person:\n",
    "        def __init__(self, name, age, number, email):\n",
    "            self.name = name\n",
    "            self.age = age\n",
    "            self.number = number\n",
    "            self.email = email\n",
    "\n",
    "\n",
    "    class Student(Person):\n",
    "        def __init__(self, name, age, number, email, student_id):\n",
    "            self.name = name\n",
    "            self.age = age\n",
    "            self.number = number\n",
    "            self.email = email\n",
    "            self.student_id = student_id\n",
    "    ```\n",
    "\n",
    "- 사용 후\n",
    "\n",
    "    ```py\n",
    "    class Person:\n",
    "        def __init__(self, name, age, number, email):\n",
    "            self.name = name\n",
    "            self.age = age\n",
    "            self.number = number\n",
    "            self.email = email\n",
    "\n",
    "\n",
    "    class Student(Person):\n",
    "        def __init__(self, name, age, number, email, student_id):\n",
    "            # Person의 init 메서드 호출\n",
    "            super().__init__(name, age, number, email)\n",
    "            self.student_id = student_id\n",
    "\n",
    "    ```"
   ]
  },
  {
   "cell_type": "markdown",
   "metadata": {},
   "source": [
    "#### super() 사용 예시 (단일 상속)\n",
    "\n",
    "```python\n",
    "class ParentA:\n",
    "    def __init__(self):\n",
    "        self.value_a = 'ParentA'\n",
    "\n",
    "    def show_value(self):\n",
    "        print(f'Value from ParentA: {self.value_a}')\n",
    "\n",
    "\n",
    "class ParentB:\n",
    "    def __init__(self):\n",
    "        self.value_b = 'ParentB'\n",
    "\n",
    "    def show_value(self):\n",
    "        print(f'Value from ParentB: {self.value_b}’)\n",
    "\n",
    "\n",
    "class Child(ParentA, ParentB):\n",
    "    def __init__(self):\n",
    "        super().__init__() # ParentA 클래스의 __init__ 메서드 호출\n",
    "        self.value_c = 'Child’\n",
    "\n",
    "    def show_value(self):\n",
    "        super().show_value() # ParentA 클래스의 show_value 메서드 호출\n",
    "        print(f'Value from Child: {self.value_c}')\n",
    "\n",
    "child = Child()\n",
    "child.show_value()\n",
    "```"
   ]
  },
  {
   "cell_type": "markdown",
   "metadata": {},
   "source": [
    "#### `mro()` 사용 예시\n",
    "\n",
    "  ```python\n",
    "  class A:\n",
    "      def __init__(self):\n",
    "          print('A Constructor')\n",
    "\n",
    "  class B(A):\n",
    "      def __init__(self):\n",
    "          super().__init__()\n",
    "          print('B Constructor')\n",
    "\n",
    "  class C(A):\n",
    "      def __init__(self):\n",
    "          super().__init__()\n",
    "          print('C Constructor')\n",
    "          \n",
    "  class D(B, C):\n",
    "      def __init__(self):\n",
    "          super().__init__()\n",
    "          print('D Constructor')\n",
    "\n",
    "  print(D.mro())\n",
    "  ```"
   ]
  },
  {
   "cell_type": "markdown",
   "metadata": {},
   "source": [
    "##### MRO가 필요한 이유\n",
    "\n",
    "- 부모 클래스들이 여러 번 액세스 되지 않도록, <br>각 클래스에서 지정된 왼쪽에서 오른쪽으로 가는 순서를 보존하고, <br>각 부모를 오직 한 번만 호출하고, <br>부모들의 우선순위에 영향을 주지 않으면서 서브 클래스를 만드는 단조적인 구조 형성\n",
    "\n",
    "- 프로그래밍 언어의 신뢰성 있고 확장성 있는 클래스를 설계할 수 있도록 도움\n",
    "- 클래스 간의 메서드 호출 순서가 예측 가능하게 유지되며, 코드의 재사용성과 유지보수성이 향상\n"
   ]
  },
  {
   "cell_type": "markdown",
   "metadata": {},
   "source": [
    "##### super의 2 가지 사용 사례\n",
    "1. 단일 상속 구조\n",
    "    - 명시적으로 이름을 지정하지 않고 부모 클래스를 참조할 수 있으므로, 코드를 더 유지 관리하기 쉽게 만들 수 있음\n",
    "    - 클래스 이름이 변경되거나 부모 클래스가 교체되어도 super()를 사용하면 코드 수정이 더 적게 필요\n",
    "2. 다중 상속 구조\n",
    "    - MRO를 따른 메서드 호출\n",
    "    - 복잡한 다중 상속 구조에서 발생할 수 있는 문제를 방지"
   ]
  },
  {
   "attachments": {},
   "cell_type": "markdown",
   "metadata": {},
   "source": [
    "## 참고"
   ]
  },
  {
   "cell_type": "markdown",
   "metadata": {},
   "source": [
    "### 인스턴스와 클래스 간의 이름 공간(namespace)\n",
    "- 클래스를 정의하면, 클래스와 해당하는 이름 공간 생성\n",
    "- 인스턴스를 만들면, 인스턴스 객체가 생성되고 <span style='color:red;'>독립적인</span> 이름 공간 생성\n",
    "- 인스턴스에서 특정 속성에 접근하면, 인스턴스 -> 클래스 순으로 탐색\n",
    "\n",
    "    ![image](https://github.com/ragu6963/TIL/assets/32388270/f1476ead-aff8-47ac-9118-b1e8095751e0)\n",
    "\n",
    "```py\n",
    "# Person 정의\n",
    "class Person:\n",
    "    name = 'unknown'\n",
    "\n",
    "    def talk(self):\n",
    "        print(self.name)\n",
    "\n",
    "\n",
    "p1 = Person()\n",
    "p1.talk()  # unknown\n",
    "\"\"\"\n",
    "p1은 인스턴스 변수가 정의되어 있지 않아\n",
    "클래스 변수(unknown)가 출력됨\n",
    "\"\"\"\n",
    "\n",
    "# p2 인스턴스 변수 설정 전/후\n",
    "p2 = Person()\n",
    "p2.talk()  # unknown\n",
    "p2.name = 'Kim'\n",
    "p2.talk()  # Kim\n",
    "\"\"\"\n",
    "p2는 인스턴스 변수가 정의되어\n",
    "인스턴스 변수(Kim)가 출력됨\n",
    "\"\"\"\n",
    "\n",
    "print(Person.name)  # unknown\n",
    "print(p1.name)  # unknown\n",
    "print(p2.name)  # Kim\n",
    "\"\"\"\n",
    "Person 클래스의 값이 Kim으로 변경된 것이 아닌\n",
    "p2 인스턴스의 이름 공간에 name이 Kim으로 저장됨\n",
    "\"\"\"\n",
    "```\n",
    "\n",
    "![image](https://github.com/ragu6963/TIL/assets/32388270/70a65cb1-e567-4792-8b1d-ddebeb618958)"
   ]
  },
  {
   "cell_type": "markdown",
   "metadata": {},
   "source": [
    "#### 독립적인 이름공간을 가지는 이점\n",
    "- 각 인스턴스는 독립적인 메모리 공간을 가지며, <br>클래스와 다른 인스턴스 간에는 서로의 데이터나 상태에 직접적인 접근이 불가능\n",
    "- 객체 지향 프로그래밍의 중요한 특성 중 하나로, <br>클래스와 인스턴스를 모듈화하고 각각의 객체가 독립적으로 동작하도록 보장\n",
    "- 이를 통해 클래스와 인스턴스는 다른 객체들과의 상호작용에서 <br>서로 충돌이나 영향을 주지 않으면서 독립적으로 동작할 수 있음\n",
    "- 코드의 가독성, 유지보수성, 재사용성을 높이는데 도움을 줌\n",
    "\n"
   ]
  },
  {
   "cell_type": "markdown",
   "metadata": {},
   "source": [
    "### 매직 메서드\n",
    "- 특별한 인스턴스 메서드\n",
    "- 특정 상황에 자동으로 호출되는 메서드\n",
    "- Double underscore(`__`)가 있는 메서드는 특수한 동작을 위해 만들어진 메서드\n",
    "    - 스페셜 메서드 혹은 매직 메서드라고 불림\n",
    "- 예시\n",
    "    ```python\n",
    "    __str__(self)\n",
    "    __len__(self)__\n",
    "    __lt__(self, other)\n",
    "    __le__(self, other)\n",
    "    __eq__(self, other)\n",
    "    __gt__(self, other)\n",
    "    __ge__(self, other)\n",
    "    __ne__(self, other)\n",
    "    ```"
   ]
  },
  {
   "cell_type": "markdown",
   "metadata": {},
   "source": [
    "#### 매직 메서드 예시\n",
    "- `__str__(self)`\n",
    "  - 내장함수 print에 의해 호출되어 객체 출력을 문자열 표현으로 변경\n",
    "\n",
    "```python\n",
    "class Circle:\n",
    "    def __init__(self, r):\n",
    "        self.r = r\n",
    "\n",
    "    def __str__(self):\n",
    "        return f'원의 반지름: {self.r}'\n",
    "    \n",
    "c1 = Circle(10)\n",
    "c2 = Circle(1)\n",
    "\n",
    "print(c1) # 원의 반지름: 10\n",
    "print(c2) # 원의 반지름: 1\n",
    "```"
   ]
  },
  {
   "attachments": {},
   "cell_type": "markdown",
   "metadata": {},
   "source": [
    "### 데코레이터 (Decorator)\n",
    "- 다른 함수의 코드를 유지한 채로 수정하거나 확장하기 위해 사용되는 함수"
   ]
  },
  {
   "cell_type": "markdown",
   "metadata": {},
   "source": [
    "#### 데코레이터 정의\n",
    "```python\n",
    "def my_decorator(func):\n",
    "    def wrapper():\n",
    "        # 함수 실행 전에 수행할 작업\n",
    "        print('함수 실행 전')\n",
    "        # 원본 함수 호출\n",
    "        result = func()\n",
    "        # 함수 실행 후에 수행할 작업\n",
    "        print('함수 실행 후')\n",
    "        return result\n",
    "    return wrapper\n",
    "```"
   ]
  },
  {
   "cell_type": "markdown",
   "metadata": {},
   "source": [
    "#### 데코레이터 사용\n",
    "\n",
    "```python\n",
    "@my_decorator\n",
    "def my_function():\n",
    "    print('원본 함수 실행')\n",
    "my_function()\n",
    "\n",
    "\"\"\"\n",
    "함수 실행 전\n",
    "원본 함수 실행\n",
    "함수 실행 후\n",
    "\"\"\"\n",
    "```"
   ]
  },
  {
   "attachments": {},
   "cell_type": "markdown",
   "metadata": {},
   "source": [
    "#### 절차 지향과 객체 지향은 대조되는 개념이 아니다\n",
    "- 객체 지향은 기존 절차 지향을 기반으로 두고 보완하기 위해<br>\n",
    "객체라는 개념을 도입해 상속, 코드 재사용성, 유지보수성 등의 이점을 가지는 패러다임 \n",
    "\n",
    "\n"
   ]
  }
 ],
 "metadata": {
  "kernelspec": {
   "display_name": "Python 3",
   "language": "python",
   "name": "python3"
  },
  "language_info": {
   "codemirror_mode": {
    "name": "ipython",
    "version": 3
   },
   "file_extension": ".py",
   "mimetype": "text/x-python",
   "name": "python",
   "nbconvert_exporter": "python",
   "pygments_lexer": "ipython3",
   "version": "3.9.13"
  },
  "orig_nbformat": 4
 },
 "nbformat": 4,
 "nbformat_minor": 2
}
