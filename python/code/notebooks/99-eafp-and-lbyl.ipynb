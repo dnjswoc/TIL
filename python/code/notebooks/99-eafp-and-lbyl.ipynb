{
 "cells": [
  {
   "attachments": {},
   "cell_type": "markdown",
   "metadata": {},
   "source": [
    "# EAFP & LBYL\n",
    "## EAFP & LBYL"
   ]
  },
  {
   "attachments": {},
   "cell_type": "markdown",
   "metadata": {},
   "source": [
    "예외처리와 값 검사에 대한 2가지 접근 방식\n",
    "1. EAFP\n",
    "2. LBYL"
   ]
  },
  {
   "attachments": {},
   "cell_type": "markdown",
   "metadata": {},
   "source": [
    "### EAFP \n",
    "- `“Easier to Ask for Forgiveness than Permission”`\n",
    "- 예외처리를 중심으로 코드를 작성하는 접근 방식\n",
    "- `try-except`\n"
   ]
  },
  {
   "attachments": {},
   "cell_type": "markdown",
   "metadata": {},
   "source": [
    "### LBYL \n",
    "- `“Look Before You Leap”`\n",
    "- 값 검사를 중심으로 코드를 작성하는 접근 방식\n",
    "- `if-else`\n"
   ]
  },
  {
   "attachments": {},
   "cell_type": "markdown",
   "metadata": {},
   "source": [
    "### 접근 방식 비교\n",
    "- EAFP\n",
    "\n",
    "    ```py\n",
    "    try:\n",
    "        result = my_dict['key']\n",
    "        print(result)\n",
    "    except KeyError:\n",
    "        print('Key가 존재하지 않습니다.')\n",
    "    ```\n",
    "\n",
    "- LBYL\n",
    "\n",
    "    ```py\n",
    "    if 'key' in my_dict:\n",
    "        result = my_dict['key']\n",
    "        print(result)\n",
    "    else:\n",
    "        print('Key가 존재하지 않습니다.')\n",
    "\n",
    "    ```\n",
    "\n",
    "|                                                           EAFP                                                         \t|                                               LBYL                                              \t|\n",
    "|:----------------------------------------------------------------------------------------------------------------------:\t|:-----------------------------------------------------------------------------------------------:\t|\n",
    "|                                               \"일단   실행하고 예외를 처리\"                                            \t|                                   \"실행하기   전에 조건을 검사\"                                 \t|\n",
    "|                                   코드를 실행하고 예외가 발생하면      예외처리를 수행                                 \t|     코드 실행 전에 조건문 등을 사용하여 예외 상황을 미리   검사하고, 예외 상황을 피하는 방식    \t|\n",
    "|     코드에서 예외가 발생할 수 있는 부분을 미리 예측하여   대비하는 것이 아니라,      예외가 발생한 후에 예외를 처리    \t|           코드가 좀 더 예측 가능한 동작을 하지만,      코드가 더 길고 복잡해질 수 있음          \t|\n",
    "|                                         예외 상황을 예측하기 어려운 경우에 유용                                        \t|                              예외 상황을 미리 방지하고 싶을 때 유용                             \t|"
   ]
  },
  {
   "cell_type": "markdown",
   "metadata": {},
   "source": []
  }
 ],
 "metadata": {
  "language_info": {
   "name": "python"
  },
  "orig_nbformat": 4
 },
 "nbformat": 4,
 "nbformat_minor": 2
}
