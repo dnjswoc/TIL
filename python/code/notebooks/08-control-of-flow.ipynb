{
 "cells": [
  {
   "attachments": {},
   "cell_type": "markdown",
   "metadata": {},
   "source": [
    "# Control of flow"
   ]
  },
  {
   "attachments": {},
   "cell_type": "markdown",
   "metadata": {},
   "source": [
    "## 제어문\n",
    "### 제어문 `Control Statement`\n",
    "- 코드의 실행 흐름을 제어하는 데 사용되는 구문<br>\n",
    "- <span style='color:red;'>조건</span>에 따라 코드 블록을 실행하거나 <span style='color:red;'>반복</span>적으로 코드를 실행 \n"
   ]
  },
  {
   "cell_type": "markdown",
   "metadata": {},
   "source": [
    "### 제어문 종류\n",
    "- 조건문\n",
    "    - `if`, `elif`, `else`\n",
    "- 반복문\n",
    "    - `for`, `while`\n",
    "- 반복문 제어\n",
    "    - `break`, `continue`, `pass`"
   ]
  },
  {
   "attachments": {},
   "cell_type": "markdown",
   "metadata": {},
   "source": [
    "## 조건문\n",
    "### 개요\n",
    "#### 조건문 `Conditional Statement`\n",
    "- 주어진 조건식을 평가하여 해당 조건이 참(True)인 경우에만 <br>\n",
    "코드 블록을 실행하거나 건너뜀\n"
   ]
  },
  {
   "attachments": {},
   "cell_type": "markdown",
   "metadata": {},
   "source": [
    "#### 파이썬 조건문에 사용되는 키워드\n",
    "- if / elif / else"
   ]
  },
  {
   "attachments": {},
   "cell_type": "markdown",
   "metadata": {},
   "source": [
    "### `‘if’` statement\n",
    "- if statement의 기본 구조\n",
    "\n",
    "    ```python\n",
    "    if 표현식:\n",
    "        코드 블록\n",
    "    elif 표현식:\n",
    "        코드 블록\n",
    "    else:\n",
    "        코드 블록\n",
    "    ```"
   ]
  },
  {
   "attachments": {},
   "cell_type": "markdown",
   "metadata": {},
   "source": [
    "#### 조건문 예시 (1/2)\n",
    "```python\n",
    "a = 5\n",
    "\n",
    "if a > 3:\n",
    "    print('3 초과')\n",
    "else:\n",
    "    print('3 이하')\n",
    "\n",
    "print(a)\n",
    "```\n",
    "\n",
    "![image](https://github.com/ragu6963/TIL/assets/32388270/3e0e596c-202e-45bb-859c-6e8a2797548a)\n"
   ]
  },
  {
   "attachments": {},
   "cell_type": "markdown",
   "metadata": {},
   "source": [
    "#### 조건문 예시 (2/2)\n",
    "```python\n",
    "a = 3\n",
    "\n",
    "if a > 3:\n",
    "    print('3 초과')\n",
    "else:\n",
    "    print('3 이하')\n",
    "\n",
    "print(a)\n",
    "```\n",
    "\n",
    "![image](https://github.com/ragu6963/TIL/assets/32388270/ea3beaf3-b5ae-4082-a38b-33fb26e8af91)\n"
   ]
  },
  {
   "attachments": {},
   "cell_type": "markdown",
   "metadata": {},
   "source": [
    "#### 복수 조건문\n",
    "- 조건식을 동시에 검사하는 것이 아니라 순차적으로 비교 \n",
    "\n",
    "    ```python\n",
    "    dust = 35\n",
    "    \n",
    "    if dust > 150:\n",
    "        print('매우 나쁨')\n",
    "    elif dust > 80:\n",
    "        print('나쁨')\n",
    "    elif dust > 30:\n",
    "        print('보통')\n",
    "    else:\n",
    "        print('좋음')\n",
    "    ```\n"
   ]
  },
  {
   "attachments": {},
   "cell_type": "markdown",
   "metadata": {},
   "source": [
    "#### 중첩 조건문\n",
    "\n",
    "```python\n",
    "dust = 480\n",
    "\n",
    "if dust > 150:\n",
    "    print('매우 나쁨')\n",
    "    \"\"\"\n",
    "    중첩 조건문\n",
    "    \"\"\"\n",
    "    if dust > 300:\n",
    "        print('위험해요! 나가지 마세요!')\n",
    "elif dust > 80:\n",
    "    print('나쁨')\n",
    "elif dust > 30:\n",
    "    print('보통')\n",
    "else:\n",
    "    print('좋음')\n",
    "\n",
    "```"
   ]
  },
  {
   "attachments": {},
   "cell_type": "markdown",
   "metadata": {},
   "source": [
    "#### 실행 해보기"
   ]
  },
  {
   "cell_type": "code",
   "execution_count": null,
   "metadata": {},
   "outputs": [],
   "source": [
    "# 실행 해보기 1\n",
    "a = 5\n",
    "\n",
    "if a > 3:\n",
    "    print('3 초과')\n",
    "else:\n",
    "    print('3 이하')\n",
    "\n",
    "print(a)"
   ]
  },
  {
   "cell_type": "code",
   "execution_count": null,
   "metadata": {},
   "outputs": [],
   "source": [
    "# 실행 해보기 2\n",
    "a = 3\n",
    "\n",
    "if a > 3:\n",
    "    print('3 초과')\n",
    "else:\n",
    "    print('3 이하')\n",
    "\n",
    "print(a)"
   ]
  },
  {
   "cell_type": "code",
   "execution_count": null,
   "metadata": {},
   "outputs": [],
   "source": [
    "# 실행 해보기 3\n",
    "dust = 35\n",
    "    \n",
    "if dust > 150:\n",
    "    print('매우 나쁨')\n",
    "elif dust > 80:\n",
    "    print('나쁨')\n",
    "elif dust > 30:\n",
    "    print('보통')\n",
    "else:\n",
    "    print('좋음')"
   ]
  },
  {
   "cell_type": "code",
   "execution_count": null,
   "metadata": {},
   "outputs": [],
   "source": [
    "# 실행 해보기 4\n",
    "dust = 480\n",
    "\n",
    "if dust > 150:\n",
    "    print('매우 나쁨')\n",
    "    if dust > 300:\n",
    "        print('위험해요! 나가지 마세요!')\n",
    "elif dust > 80:\n",
    "    print('나쁨')\n",
    "elif dust > 30:\n",
    "    print('보통')\n",
    "else:\n",
    "    print('좋음')"
   ]
  },
  {
   "attachments": {},
   "cell_type": "markdown",
   "metadata": {},
   "source": [
    "## 반복문\n",
    "### 개요\n",
    "#### 반복문 `Loop Statement`\n",
    "- 주어진 코드 블록을 여러 번 반복해서 실행하는 구문\n",
    "1. 특정 작업을 반복적으로 수행\n",
    "2. 주어진 조건이 참인 동안 반복해서 실행\n"
   ]
  },
  {
   "attachments": {},
   "cell_type": "markdown",
   "metadata": {},
   "source": [
    "#### 파이썬 반복문에 사용되는 키워드\n",
    "- `for`\n",
    "  - 특정 작업을 반복적으로 수행\n",
    "- `while`\n",
    "  - 주어진 조건이 참인 동안 반복해서 실행"
   ]
  },
  {
   "attachments": {},
   "cell_type": "markdown",
   "metadata": {},
   "source": [
    "### `‘for’` statement\n",
    "- 임의의 시퀀스의 항목들을 그 시퀀스에 들어있는 순서대로 반복\n",
    "- for statement의 기본 구조\n",
    "\n",
    "    ```python\n",
    "    for 변수 in 반복 가능한 객체:\n",
    "        코드 블록\n",
    "    ```"
   ]
  },
  {
   "attachments": {},
   "cell_type": "markdown",
   "metadata": {},
   "source": [
    "#### 반복 가능한 객체 `iterable`\n",
    "- 반복문에서 순회할 수 있는 객체<br>\n",
    "(시퀀스 객체 뿐만 아니라 dict, set 등도 포함)\n"
   ]
  },
  {
   "attachments": {},
   "cell_type": "markdown",
   "metadata": {},
   "source": [
    "#### for 문 원리\n",
    "- 리스트 내 첫 항목이 반복 변수에 할당되고 코드블록이 실행\n",
    "- 다음으로 반복 변수에 리스트의 2번째 항목이 할당되고 코드블록이 다시 실행\n",
    "- ... 마지막으로 반복 변수에 리스트의 마지막 요소가 할당되고 코드블록이 실행\n",
    "\n",
    "    ```python\n",
    "    items = ['apple', 'banana', 'coconut']\n",
    "    \n",
    "    for item in items:\n",
    "        print(item)\n",
    "    \n",
    "    \"\"\"\n",
    "    apple\n",
    "    banana\n",
    "    coconut\n",
    "    \"\"\"\n",
    "    ``` "
   ]
  },
  {
   "attachments": {},
   "cell_type": "markdown",
   "metadata": {},
   "source": [
    "#### 문자열 순회\n",
    "```python\n",
    "country = 'Korea'\n",
    "\n",
    "for char in country:\n",
    "    print(char)\n",
    "\n",
    "\"\"\"\n",
    "K\n",
    "o\n",
    "r\n",
    "e\n",
    "a\n",
    "\"\"\"\n",
    "```"
   ]
  },
  {
   "attachments": {},
   "cell_type": "markdown",
   "metadata": {},
   "source": [
    "#### range 순회\n",
    "```python\n",
    "for i in range(5):\n",
    "    print(i)\n",
    "\n",
    "\"\"\"\n",
    "0\n",
    "1\n",
    "2\n",
    "3\n",
    "4\n",
    "\"\"\"\n",
    "```"
   ]
  },
  {
   "cell_type": "markdown",
   "metadata": {},
   "source": [
    "#### dict 순회\n",
    "```python\n",
    "my_dict = {\n",
    "    'x': 10,\n",
    "    'y': 20,\n",
    "    'z': 30,\n",
    "}\n",
    "\n",
    "for key in my_dict:\n",
    "    print(key)\n",
    "    print(my_dict[key])\n",
    "\n",
    "\n",
    "\"\"\"\n",
    "x\n",
    "10\n",
    "y\n",
    "20\n",
    "z\n",
    "30\n",
    "\"\"\"\n",
    "```"
   ]
  },
  {
   "attachments": {},
   "cell_type": "markdown",
   "metadata": {},
   "source": [
    "#### 인덱스로 리스트 순회\n",
    "- 리스트의 요소가 아닌 인덱스로 접근하여 해당 요소들을 변경하기\n",
    "    \n",
    "    ```python\n",
    "    numbers = [4, 6, 10, -8, 5]\n",
    "    \n",
    "    for i in range(len(numbers)):\n",
    "        numbers[i] = numbers[i] * 2\n",
    "    \n",
    "    print(numbers) # [8, 12, 20, -16, 10]\n",
    "    ```"
   ]
  },
  {
   "attachments": {},
   "cell_type": "markdown",
   "metadata": {},
   "source": [
    "#### 중첩된 반복문\n",
    "- 안쪽 반복문은 outers 리스트의 각 항목에 대해 한 번씩 실행됨\n",
    "- print가 호출되는 횟수 => `len(outers) * len(inners)`\n",
    "    ```python\n",
    "    outers = ['A', 'B']\n",
    "    inners = ['c', 'd']\n",
    "        \n",
    "    for outer in outers:\n",
    "        for inner in inners:\n",
    "            print(outer, inner)\n",
    "        \n",
    "    \"\"\"\n",
    "    A c\n",
    "    A d\n",
    "    B c\n",
    "    B d\n",
    "    \"\"\"\n",
    "    ```"
   ]
  },
  {
   "attachments": {},
   "cell_type": "markdown",
   "metadata": {},
   "source": [
    "#### 중첩 리스트 순회\n",
    "- 안쪽 리스트 요소에 접근하려면 바깥 리스트를 순회하면서 중첩 반복을 사용해 각 안쪽 반복을 순회\n",
    "    ```python\n",
    "    elements = [['A', 'B'], ['c', 'd']]\n",
    "\n",
    "    for elem in elements:\n",
    "        print(elem)\n",
    "\n",
    "    \"\"\"\n",
    "    ['A', 'B']\n",
    "    ['c', 'd']\n",
    "    \"\"\"\n",
    "    ```\n",
    "    ```python\n",
    "    elements = [['A', 'B'], ['c', 'd']]\n",
    "\n",
    "    for elem in elements:\n",
    "        for item in elem:\n",
    "            print(item)\n",
    "\n",
    "    \"\"\"\n",
    "    A\n",
    "    B\n",
    "    c\n",
    "    d\n",
    "    \"\"\"\n",
    "    ```"
   ]
  },
  {
   "attachments": {},
   "cell_type": "markdown",
   "metadata": {},
   "source": [
    "#### 실행해보기"
   ]
  },
  {
   "cell_type": "code",
   "execution_count": null,
   "metadata": {},
   "outputs": [],
   "source": [
    "# 실행 해보기 1\n",
    "items = ['apple', 'banana', 'coconut']\n",
    "    \n",
    "for item in items:\n",
    "    print(item)"
   ]
  },
  {
   "cell_type": "code",
   "execution_count": null,
   "metadata": {},
   "outputs": [],
   "source": [
    "# 실행 해보기 2\n",
    "country = 'Korea'\n",
    "\n",
    "for char in country:\n",
    "    print(char)\n"
   ]
  },
  {
   "cell_type": "code",
   "execution_count": null,
   "metadata": {},
   "outputs": [],
   "source": [
    "# 실행 해보기 3\n",
    "for i in range(5):\n",
    "    print(i)"
   ]
  },
  {
   "cell_type": "code",
   "execution_count": null,
   "metadata": {},
   "outputs": [],
   "source": [
    "# 실행 해보기 4\n",
    "numbers = [4, 6, 10, -8, 5]\n",
    "    \n",
    "for i in range(len(numbers)):\n",
    "    numbers[i] = numbers[i] * 2\n",
    "    \n",
    "print(numbers)"
   ]
  },
  {
   "cell_type": "code",
   "execution_count": null,
   "metadata": {},
   "outputs": [],
   "source": [
    "# 실행 해보기 5\n",
    "outers = ['A', 'B']\n",
    "inners = ['c', 'd']\n",
    "    \n",
    "for outer in outers:\n",
    "    for inner in inners:\n",
    "        print(outer, inner)"
   ]
  },
  {
   "cell_type": "code",
   "execution_count": null,
   "metadata": {},
   "outputs": [],
   "source": [
    "# 실행 해보기 6\n",
    "elements = [['A', 'B'], ['c', 'd']]\n",
    "for elem in elements:\n",
    "    print(elem)"
   ]
  },
  {
   "cell_type": "code",
   "execution_count": null,
   "metadata": {},
   "outputs": [],
   "source": [
    "# 실행 해보기 7\n",
    "elements = [['A', 'B'], ['c', 'd']]\n",
    "for elem in elements:\n",
    "    for item in elem:\n",
    "        print(item)"
   ]
  },
  {
   "attachments": {},
   "cell_type": "markdown",
   "metadata": {},
   "source": [
    "### ‘while’ statement\n",
    "- 주어진 조건식이 참(True)인 동안 코드를 반복해서 실행 == 조건식이 거짓(False)가 될 때 까지 반복\n",
    "- while statement의 기본 구조\n",
    "\n",
    "    ```python\n",
    "    while 조건식:\n",
    "        코드 블록\n",
    "    ```"
   ]
  },
  {
   "attachments": {},
   "cell_type": "markdown",
   "metadata": {},
   "source": [
    "#### while 반복문 예시\n",
    "```python\n",
    "a = 0\n",
    "\n",
    "while a < 3:\n",
    "    print(a)\n",
    "    a += 1\n",
    "\n",
    "print('끝')\n",
    "\n",
    "\"\"\"\n",
    "0\n",
    "1 \n",
    "2 \n",
    "끝\n",
    "\"\"\"\n",
    "```"
   ]
  },
  {
   "attachments": {},
   "cell_type": "markdown",
   "metadata": {},
   "source": [
    "#### 사용자 입력에 따른 반복\n",
    "- while문을 사용한 특정 입력 값에 대한 종료 조건 활용하기\n",
    "    \n",
    "    ```python\n",
    "    number = int(input('양의 정수를 입력해주세요.: '))\n",
    "\n",
    "    while number <= 0:\n",
    "        if number < 0:\n",
    "            print('음수를 입력했습니다.')\n",
    "        else:\n",
    "            print('0은 양의 정수가 아닙니다.')\n",
    "\n",
    "        number = int(input('양의 정수를 입력해주세요.: '))\n",
    "\n",
    "    print('잘했습니다!')\n",
    "    \"\"\"\n",
    "    양의 정수를 입력해주세요.: 0\n",
    "    0은 양의 정수가 아닙니다.  \n",
    "    양의 정수를 입력해주세요.: -1\n",
    "    음수를 입력했습니다.       \n",
    "    양의 정수를 입력해주세요.: 1\n",
    "    잘했습니다!\n",
    "    \"\"\"\n",
    "    ```"
   ]
  },
  {
   "attachments": {},
   "cell_type": "markdown",
   "metadata": {},
   "source": [
    "#### while 문은 반드시 `종료 조건`이 필요\n"
   ]
  },
  {
   "attachments": {},
   "cell_type": "markdown",
   "metadata": {},
   "source": [
    "#### 적절한 반복문 활용하기\n",
    "- `for`\n",
    "    - 반복 횟수가 명확하게 정해져 있는 경우에 유용\n",
    "    - 예를 들어 리스트, 튜플, 문자열 등과 같은 시퀀스 형식의 데이터를 처리할 때 \n",
    "\n",
    "- `while`\n",
    "    - 반복 횟수가 불명확하거나 조건에 따라 반복을 종료해야 할 때 유용\n",
    "    - 예를 들어 사용자의 입력을 받아서 특정 조건이 충족될 때까지 반복하는 경우\n"
   ]
  },
  {
   "attachments": {},
   "cell_type": "markdown",
   "metadata": {},
   "source": [
    "#### 실행 해보기"
   ]
  },
  {
   "cell_type": "code",
   "execution_count": null,
   "metadata": {},
   "outputs": [],
   "source": [
    "# 실행 해보기 1\n",
    "a = 0\n",
    "\n",
    "while a < 3:\n",
    "    print(a)\n",
    "    a += 1\n",
    "\n",
    "print('끝')"
   ]
  },
  {
   "cell_type": "code",
   "execution_count": null,
   "metadata": {},
   "outputs": [],
   "source": [
    "# 실행 해보기 2\n",
    "number = int(input('양의 정수를 입력해주세요.: '))\n",
    "while number <= 0:\n",
    "    if number < 0:\n",
    "        print('음수를 입력했습니다.')\n",
    "    else:\n",
    "        print('0은 양의 정수가 아닙니다.')\n",
    "    number = int(input('양의 정수를 입력해주세요.: '))\n",
    "print('잘했습니다!')"
   ]
  },
  {
   "cell_type": "markdown",
   "metadata": {},
   "source": [
    "### 반복 제어\n",
    "- for문과 while은 매 반복마다 본문 내 모든 코드를 실행하지만<br>\n",
    "때때로 일부만 실행하는 것이 필요할 때가 있음\n",
    "\n",
    "#### 반복문 제어 키워드\n",
    "- `break`\n",
    "  - 반복을 즉시 중지\n",
    "- `continue`\n",
    "  - 다음 반복으로 건너뜀\n",
    "- `pass`\n",
    "  - 아무런 동작도 수행하지 않고 넘어감\n"
   ]
  },
  {
   "cell_type": "markdown",
   "metadata": {},
   "source": [
    "#### 반복문 제어 예시\n",
    "\n",
    "```python\n",
    "# break\n",
    "\n",
    "for i in range(10):\n",
    "    if i == 5:\n",
    "        break\n",
    "    print(i)  # 0 1 2 3 4\n",
    "```\n",
    "\n",
    "```python\n",
    "# continue\n",
    "\n",
    "for i in range(10):\n",
    "    if i % 2 == 0:\n",
    "        continue\n",
    "    print(i)  # 1 3 5 7 9\n",
    "```\n",
    "\n",
    "```python\n",
    "# pass\n",
    "\n",
    "for i in range(10):\n",
    "    pass  # 아무 작업도 안함\n",
    "```"
   ]
  },
  {
   "attachments": {},
   "cell_type": "markdown",
   "metadata": {},
   "source": [
    "#### break 예시 (1/2)\n",
    "- 프로그램 종료 조건 만들기\n",
    "\n",
    "    ```python\n",
    "    number = int(input('양의 정수를 입력해주세요.: '))\n",
    "\n",
    "    while number <= 0:\n",
    "        \"\"\"\n",
    "        종료 조건과 break\n",
    "        \"\"\"\n",
    "        if number == -9999: \n",
    "            print('프로그램을 종료합니다.')\n",
    "            break\n",
    "\n",
    "        if number < 0:\n",
    "            print('음수를 입력했습니다.')\n",
    "        else:\n",
    "            print('0은 양의 정수가 아닙니다.')\n",
    "\n",
    "        number = int(input('양의 정수를 입력해주세요.: '))\n",
    "\n",
    "    print('잘했습니다!')\n",
    "\n",
    "    \"\"\"\n",
    "    양의 정수를 입력해주세요.: -9999\n",
    "    프로그램을 종료합니다.\n",
    "    잘했습니다!\n",
    "    \"\"\"\n",
    "    ```"
   ]
  },
  {
   "cell_type": "markdown",
   "metadata": {},
   "source": [
    "#### break 예시 (2/2)\n",
    "- 리스트에서 첫번째 짝수만 찾은 후 반복 종료하기\n",
    "\n",
    "    ```python\n",
    "    numbers = [1, 3, 5, 6, 7, 9, 10, 11]\n",
    "    found_even = False\n",
    "\n",
    "    for num in numbers:\n",
    "        if num % 2 == 0:\n",
    "            print('첫 번째 짝수를 찾았습니다:', num)\n",
    "            found_even = True\n",
    "            break\n",
    "\n",
    "    if not found_even:\n",
    "        print('짝수를 찾지 못했습니다')\n",
    "\n",
    "    \"\"\"\n",
    "    첫 번째 짝수를 찾았습니다: 6\n",
    "    \"\"\"\n",
    "    ```"
   ]
  },
  {
   "attachments": {},
   "cell_type": "markdown",
   "metadata": {},
   "source": [
    "#### continue 예시\n",
    "- 리스트에서 홀수만 출력하기\n",
    "- `현재 반복문의 남은 코드를 건너뛰고 다음 반복으로 넘어감`\n",
    "\n",
    "    ```python\n",
    "    numbers = [1, 2, 3, 4, 5, 6, 7, 8, 9, 10]\n",
    "\n",
    "    for num in numbers:\n",
    "        if num % 2 == 0:\n",
    "            continue\n",
    "        print(num)\n",
    "        \n",
    "    \"\"\"\n",
    "    1\n",
    "    3\n",
    "    5\n",
    "    7\n",
    "    9\n",
    "    \"\"\"\n",
    "    ```"
   ]
  },
  {
   "cell_type": "markdown",
   "metadata": {},
   "source": [
    "#### pass 예시\n",
    "1. 코드 작성 중 미완성 부분\n",
    "    - 구현해야 할 부분이 나중에 추가될 수 있고, 코드를 컴파일하는 동안 오류가 발생하지 않음\n",
    "      ```python\n",
    "      def my_function():\n",
    "          pass  \n",
    "      ```\n",
    "2. 조건문에서 아무런 동작을 수행하지 않아야 할 때\n",
    "    ```python\n",
    "    if condition:\n",
    "        pass  # 아무런 동작도 수행하지 않음\n",
    "    else:\n",
    "        # 다른 동작 수행\n",
    "    ```\n",
    "3. 무한 루프에서 조건이 충족되지 않을 때 pass를 사용하여 루프를 계속 진행하는 방법\n",
    "    ```python\n",
    "    while True:\n",
    "        if condition:\n",
    "            break\n",
    "        elif condition:\n",
    "            pass  # 루프 계속 진행\n",
    "        else:\n",
    "            print('..')\n",
    "    ```\n"
   ]
  },
  {
   "attachments": {},
   "cell_type": "markdown",
   "metadata": {},
   "source": [
    "#### 실행 해보기"
   ]
  },
  {
   "cell_type": "code",
   "execution_count": null,
   "metadata": {},
   "outputs": [],
   "source": [
    "# 실행 해보기 1\n",
    "number = int(input('양의 정수를 입력해주세요.: '))\n",
    "while number <= 0: \n",
    "    if number == -9999: \n",
    "        print('프로그램을 종료합니다.')\n",
    "        break\n",
    "    if number < 0:\n",
    "        print('음수를 입력했습니다.')\n",
    "    else:\n",
    "        print('0은 양의 정수가 아닙니다.')\n",
    "    number = int(input('양의 정수를 입력해주세요.: '))\n",
    "print('잘했습니다!')"
   ]
  },
  {
   "cell_type": "code",
   "execution_count": null,
   "metadata": {},
   "outputs": [],
   "source": [
    "# 실행 해보기 2\n",
    "numbers = [1, 3, 5, 6, 7, 9, 10, 11]\n",
    "found_even = False\n",
    "for num in numbers:\n",
    "    if num % 2 == 0:\n",
    "        print('첫 번째 짝수를 찾았습니다:', num)\n",
    "        found_even = True\n",
    "        break\n",
    "if not found_even:\n",
    "    print('짝수를 찾지 못했습니다')"
   ]
  },
  {
   "cell_type": "code",
   "execution_count": null,
   "metadata": {},
   "outputs": [],
   "source": [
    "# 실행 해보기 3\n",
    "numbers = [1, 2, 3, 4, 5, 6, 7, 8, 9, 10]\n",
    "for num in numbers:\n",
    "    if num % 2 == 0:\n",
    "        continue\n",
    "    print(num)"
   ]
  },
  {
   "cell_type": "code",
   "execution_count": null,
   "metadata": {},
   "outputs": [],
   "source": [
    "# 실행 해보기 4\n",
    "for number in range(1, 5):\n",
    "    if number != 3:\n",
    "        print(number)"
   ]
  },
  {
   "attachments": {},
   "cell_type": "markdown",
   "metadata": {},
   "source": [
    "### List Comprehension\n",
    "- 간결하고 효율적인 리스트 생성 방법\n"
   ]
  },
  {
   "cell_type": "markdown",
   "metadata": {},
   "source": [
    "#### List Comprehension 구조\n",
    "```python\n",
    "[expression for 변수 in iterable]\n",
    "list(expression for 변수 in iterable)\n",
    "\n",
    "[expression for 변수 in iterable if 조건식]\n",
    "list(expression for 변수 in iterable if 조건식)\n",
    "```"
   ]
  },
  {
   "cell_type": "markdown",
   "metadata": {},
   "source": [
    "#### List Comprehension 사용 전/후 비교\n",
    "\n",
    "- 사용 전\n",
    "    ```python\n",
    "    numbers = [1, 2, 3, 4, 5]\n",
    "    squared_numbers = []\n",
    "\n",
    "    for num in numbers:\n",
    "        squared_numbers.append(num**2)\n",
    "\n",
    "    print(squared_numbers)  # [1, 4, 9, 16, 25]\n",
    "    ```\n",
    "\n",
    "- 사용 후\n",
    "    ```python\n",
    "    numbers = [1, 2, 3, 4, 5]\n",
    "    squared_numbers = [num**2 for num in numbers]\n",
    "\n",
    "    print(squared_numbers)  # [1, 4, 9, 16, 25]\n",
    "    ```"
   ]
  },
  {
   "cell_type": "markdown",
   "metadata": {},
   "source": [
    "#### List Comprehension 활용 예시\n",
    "- 2차원 배열 생성 시 (인접행렬 생성 시)\n",
    "\n",
    "```python\n",
    "data1 = [[0] * (5) for _ in range(5)]\n",
    "\n",
    "# 또는\n",
    "data2 = [[0 for _ in range(5)] for _ in range(5)]\n",
    "\n",
    "\"\"\"\n",
    "[[0, 0, 0, 0, 0],\n",
    " [0, 0, 0, 0, 0],\n",
    " [0, 0, 0, 0, 0],\n",
    " [0, 0, 0, 0, 0],\n",
    " [0, 0, 0, 0, 0]]\n",
    "\"\"\"\n",
    "```"
   ]
  },
  {
   "attachments": {},
   "cell_type": "markdown",
   "metadata": {},
   "source": [
    "#### 가독성 비교\n",
    "\n",
    "- Comprehension 사용\n",
    "    \n",
    "    ```python\n",
    "    result = [i for i in range(10) if i % 2 == 1]\n",
    "    ```\n",
    "- Comprehension 미사용\n",
    "    \n",
    "    ```python\n",
    "    result = []\n",
    "    for i in range(10):\n",
    "        if i % 2 == 1:\n",
    "            result.append(i)\n",
    "    ```\n"
   ]
  },
  {
   "attachments": {},
   "cell_type": "markdown",
   "metadata": {},
   "source": [
    "#### 실행 해보기"
   ]
  },
  {
   "cell_type": "code",
   "execution_count": null,
   "metadata": {},
   "outputs": [],
   "source": [
    "# 실행 해보기 1\n",
    "numbers = [1, 2, 3, 4, 5]\n",
    "squared_numbers = []\n",
    "for num in numbers:\n",
    "    squared_numbers.append(num**2)\n",
    "print(squared_numbers) "
   ]
  },
  {
   "cell_type": "code",
   "execution_count": null,
   "metadata": {},
   "outputs": [],
   "source": [
    "# 실행 해보기 2\n",
    "numbers = [1, 2, 3, 4, 5]\n",
    "squared_numbers = [num**2 for num in numbers]\n",
    "print(squared_numbers)"
   ]
  },
  {
   "cell_type": "code",
   "execution_count": null,
   "metadata": {},
   "outputs": [],
   "source": [
    "# 실행 해보기 3\n",
    "result = [i for i in range(10) if i % 2 == 1]\n",
    "print(result)"
   ]
  },
  {
   "cell_type": "code",
   "execution_count": null,
   "metadata": {},
   "outputs": [],
   "source": [
    "# 실행 해보기 4\n",
    "result = []\n",
    "for i in range(10):\n",
    "    if i % 2 == 1:\n",
    "        result.append(i)\n",
    "print(result)\n"
   ]
  },
  {
   "attachments": {},
   "cell_type": "markdown",
   "metadata": {},
   "source": [
    "## 참고\n",
    "### enumerate"
   ]
  },
  {
   "attachments": {},
   "cell_type": "markdown",
   "metadata": {},
   "source": [
    "#### `enumerate(iterable, start=0) `\n",
    "- iterable 객체의 각 요소에 대해 인덱스와 함께 반환하는 내장함수\n"
   ]
  },
  {
   "attachments": {},
   "cell_type": "markdown",
   "metadata": {},
   "source": [
    "#### enumerate 예시\n",
    "\n",
    "```python\n",
    "fruits = ['apple', 'banana', 'cherry']\n",
    "\n",
    "for index, fruit in enumerate(fruits):\n",
    "print(f'인덱스 {index}: {fruit}')\n",
    "\n",
    "\"\"\"\n",
    "인덱스 0: apple\n",
    "인덱스 1: banana\n",
    "인덱스 2: cherry\n",
    "\"\"\"\n",
    "```"
   ]
  }
 ],
 "metadata": {
  "kernelspec": {
   "display_name": "Python 3",
   "language": "python",
   "name": "python3"
  },
  "language_info": {
   "codemirror_mode": {
    "name": "ipython",
    "version": 3
   },
   "file_extension": ".py",
   "mimetype": "text/x-python",
   "name": "python",
   "nbconvert_exporter": "python",
   "pygments_lexer": "ipython3",
   "version": "3.9.12"
  },
  "orig_nbformat": 4
 },
 "nbformat": 4,
 "nbformat_minor": 2
}
