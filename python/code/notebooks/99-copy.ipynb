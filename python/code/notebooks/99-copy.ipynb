{
 "cells": [
  {
   "attachments": {},
   "cell_type": "markdown",
   "metadata": {},
   "source": [
    "# Copy\n",
    "## 복사\n",
    "### 개요\n",
    "- 파이썬에서는 데이터에 분류에 따라 복사가 달라짐\n",
    "- “변경 가능한 데이터 타입”과 “변경 불가능한 데이터 타입”을 다르게 다룸\n",
    "\n"
   ]
  },
  {
   "attachments": {},
   "cell_type": "markdown",
   "metadata": {},
   "source": [
    "#### 변경 가능한 데이터 타입의 복사\n",
    "```py\n",
    "a = [1, 2, 3, 4]\n",
    "b = a\n",
    "b[0] = 100\n",
    "\n",
    "print(a)  # [100, 2, 3, 4]\n",
    "print(b)  # [100, 2, 3, 4]\n",
    "```\n",
    "\n",
    "![image](https://github.com/ragu6963/TIL/assets/32388270/d77141fc-77d0-46ac-a087-111d372713a0)"
   ]
  },
  {
   "attachments": {},
   "cell_type": "markdown",
   "metadata": {},
   "source": [
    "#### 변경 불가능한 데이터 타입의 복사\n",
    "```py\n",
    "a = 20\n",
    "b = a\n",
    "b = 10\n",
    "\n",
    "print(a)  # 20\n",
    "print(b)  # 10\n",
    "```\n",
    "\n",
    "![image](https://github.com/ragu6963/TIL/assets/32388270/6b9cfc06-ab31-4b9e-a000-e0cf66c4623d)\n"
   ]
  },
  {
   "attachments": {},
   "cell_type": "markdown",
   "metadata": {},
   "source": [
    "### 복사 유형\n",
    "#### 복사 유형\n",
    "1. 할당 (Assignment)\n",
    "2. 얕은 복사 (Shallow copy)\n",
    "3. 깊은 복사 (Deep copy)"
   ]
  },
  {
   "attachments": {},
   "cell_type": "markdown",
   "metadata": {},
   "source": [
    "#### 1. 할당\n",
    "- 리스트 복사 예시\n",
    "    - 할당 연산자(=)를 통한 복사는 해당 객체에 대한 객체 참조를 복사\n",
    "\n",
    "        ```py\n",
    "        original_list = [1, 2, 3]\n",
    "        copy_list = original_list\n",
    "        print(original_list, copy_list)  # [1, 2, 3] [1, 2, 3]\n",
    "\n",
    "        copy_list[0] = 'hi'\n",
    "        print(original_list, copy_list)  # ['hi', 2, 3] ['hi', 2, 3]\n",
    "        ```\n",
    "\n",
    "        ![image](https://github.com/ragu6963/TIL/assets/32388270/f5ded019-54d8-40f4-b259-10140e6ff57f)\n"
   ]
  },
  {
   "attachments": {},
   "cell_type": "markdown",
   "metadata": {},
   "source": [
    "#### 2. 얕은 복사\n",
    "- 리스트 얕은 복사 예시\n",
    "    - 슬라이싱을 통해 생성된 객체는 원본 객체와 독립적으로 존재\n",
    "        \n",
    "        ```py\n",
    "        a = [1, 2, 3]\n",
    "        b = a[:]\n",
    "        print(a, b)  # [1, 2, 3] [1, 2, 3]\n",
    "\n",
    "        b[0] = 100\n",
    "        print(a, b)  # [1, 2, 3] [100, 2, 3]\n",
    "        ```\n",
    "\n",
    "        ![image](https://github.com/ragu6963/TIL/assets/32388270/e6ca0423-4824-4822-bc3f-53d61ed551bd)\n",
    "\n",
    "- 2차원 리스트와 같이 변경가능한 객체 안에 변경 가능한 객체가 있는 경우\n",
    "    - a와 b의 주소는 다르지만 내부 객체의 주소는 같기 때문에 함께 변경됨\n",
    "\n",
    "        ```py\n",
    "        a = [1, 2, [1, 2]]\n",
    "        b = a[:]\n",
    "        print(a, b)  # [1, 2, [1, 2]] [1, 2, [1, 2]]\n",
    "\n",
    "        b[2][0] = 100\n",
    "        print(a, b)  # [1, 2, [100, 2]] [1, 2, [100, 2]]\n",
    "        ```\n",
    "        \n",
    "        ![image](https://github.com/ragu6963/TIL/assets/32388270/3ec9f431-47c8-4332-98b8-45ff86550bb0)\n"
   ]
  },
  {
   "attachments": {},
   "cell_type": "markdown",
   "metadata": {},
   "source": [
    "#### 3. 깊은 복사\n",
    "- 리스트 깊은 복사 예시\n",
    "    - 내부에 중첩된 모든 객체까지 새로운 객체 주소를 참조하도록 함\n",
    "\n",
    "        ```py\n",
    "        import copy\n",
    "\n",
    "\n",
    "        original_list = [1, 2, [1, 2]]\n",
    "        deep_copied_list = copy.deepcopy(original_list)\n",
    "\n",
    "        deep_copied_list[2][0] = 100\n",
    "\n",
    "        print(original_list)  # [1, 2, [1, 2]]\n",
    "        print(deep_copied_list)  # [1, 2, [100, 2]]\n",
    "        ```\n",
    "        \n",
    "        ![image](https://github.com/ragu6963/TIL/assets/32388270/b352a3ea-6264-46fc-9f84-f5e915b523d0)\n"
   ]
  },
  {
   "attachments": {},
   "cell_type": "markdown",
   "metadata": {},
   "source": [
    "### 실행 해보기"
   ]
  },
  {
   "cell_type": "code",
   "execution_count": null,
   "metadata": {},
   "outputs": [],
   "source": [
    "# 실행 해보기 1\n",
    "a = [1, 2, 3, 4]\n",
    "b = a\n",
    "b[0] = 100\n",
    "\n",
    "print(a)\n",
    "print(b)"
   ]
  },
  {
   "cell_type": "code",
   "execution_count": null,
   "metadata": {},
   "outputs": [],
   "source": [
    "# 실행 해보기 2\n",
    "a = 20\n",
    "b = a\n",
    "b = 10\n",
    "\n",
    "print(a)\n",
    "print(b)"
   ]
  },
  {
   "cell_type": "code",
   "execution_count": null,
   "metadata": {},
   "outputs": [],
   "source": [
    "# 실행 해보기 3\n",
    "original_list = [1, 2, 3]\n",
    "copy_list = original_list\n",
    "print(original_list, copy_list) \n",
    "\n",
    "copy_list[0] = 'hi'\n",
    "print(original_list, copy_list) "
   ]
  },
  {
   "cell_type": "code",
   "execution_count": null,
   "metadata": {},
   "outputs": [],
   "source": [
    "# 실행 해보기 4\n",
    "a = [1, 2, 3]\n",
    "b = a[:]\n",
    "print(a, b) \n",
    "\n",
    "b[0] = 100\n",
    "print(a, b) "
   ]
  },
  {
   "cell_type": "code",
   "execution_count": null,
   "metadata": {},
   "outputs": [],
   "source": [
    "# 실행 해보기 5\n",
    "a = [1, 2, [1, 2]]\n",
    "b = a[:]\n",
    "print(a, b) \n",
    "\n",
    "b[2][0] = 100\n",
    "print(a, b)  \n"
   ]
  },
  {
   "cell_type": "code",
   "execution_count": null,
   "metadata": {},
   "outputs": [],
   "source": [
    "# 실행 해보기 6\n",
    "import copy\n",
    "\n",
    "\n",
    "original_list = [1, 2, [1, 2]]\n",
    "deep_copied_list = copy.deepcopy(original_list)\n",
    "\n",
    "deep_copied_list[2][0] = 100\n",
    "\n",
    "print(original_list) \n",
    "print(deep_copied_list) "
   ]
  }
 ],
 "metadata": {
  "kernelspec": {
   "display_name": "Python 3",
   "language": "python",
   "name": "python3"
  },
  "language_info": {
   "codemirror_mode": {
    "name": "ipython",
    "version": 3
   },
   "file_extension": ".py",
   "mimetype": "text/x-python",
   "name": "python",
   "nbconvert_exporter": "python",
   "pygments_lexer": "ipython3",
   "version": "3.9.13"
  },
  "orig_nbformat": 4
 },
 "nbformat": 4,
 "nbformat_minor": 2
}
