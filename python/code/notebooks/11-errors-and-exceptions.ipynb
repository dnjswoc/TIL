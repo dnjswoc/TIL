{
 "cells": [
  {
   "attachments": {},
   "cell_type": "markdown",
   "metadata": {},
   "source": [
    "# 에러와 예외"
   ]
  },
  {
   "attachments": {},
   "cell_type": "markdown",
   "metadata": {},
   "source": [
    "## 디버깅\n",
    "### 버그 `bug`\n",
    "- 소프트웨어에서 발생하는 오류 또는 결함\n",
    "- 프로그램의 예상된 동작과 실제 동작 사이의 불일치\n"
   ]
  },
  {
   "attachments": {},
   "cell_type": "markdown",
   "metadata": {},
   "source": [
    "버그의 기원\n",
    "- 'Bug'라는 용어는 소프트웨어 이전부터 공학 분야에서 사용되었음\n",
    "- 컴퓨터 분야에서의 첫 사용은 1947년 프로그래밍 언어의 일종인 코볼 발명자 그레이스 호퍼와 그녀의 팀이 컴퓨터의 릴레이에서 실제 나방을 발견한 것이 시초로 알려짐\n",
    "- 하버드 Mark Ⅱ 컴퓨터 회로에 실제 나방이 들어가 합선을 일으켜 비정상적으로 동작한 것을 기록한 것\n",
    "- 발견된 나방은 컴퓨터 로그북에 테이프로 붙여서 보존되었고 \"First actual case of bug being found\" (실제 버그가 발견된 첫 사례)라는 메모가 남겨짐\n",
    "- \"버그\"라는 용어는 이전부터 사용되어 왔지만 이 사건을 계기로 컴퓨터 시스템에서 발생하는 오류 또는 결함을 지칭하는 용어로 널리 사용되기 시작\n"
   ]
  },
  {
   "attachments": {},
   "cell_type": "markdown",
   "metadata": {},
   "source": [
    "실제 버그가 발견된 최초의 사례\n",
    "![image](https://github.com/ragu6963/TIL/assets/32388270/ff6aa90f-a8e0-4ad4-b785-053f496b0864)\n"
   ]
  },
  {
   "attachments": {},
   "cell_type": "markdown",
   "metadata": {},
   "source": [
    "### Debugging\n",
    "- 소프트웨어에서 발생하는 버그를 찾아내고 수정하는 과정\n",
    "- 프로그램의 오작동 원인을 식별하여 수정하는 작업\n"
   ]
  },
  {
   "attachments": {},
   "cell_type": "markdown",
   "metadata": {},
   "source": [
    "디버깅 방법\n",
    "1. print 함수 활용\n",
    "    - 특정 함수 결과, 반복/조건 결과 등 나눠서 생각, 코드를 bisection으로 나눠서 생각\n",
    "2. 개발 환경(text editor, IDE) 등에서 제공하는 기능 활용\n",
    "    - breakpoint, 변수 조회 등\n",
    "3. [Python tutor](https://pythontutor.com/) 활용 (단순 파이썬 코드인 경우) \n",
    "4. 뇌 컴파일, 눈 디버깅 등"
   ]
  },
  {
   "attachments": {},
   "cell_type": "markdown",
   "metadata": {},
   "source": [
    "## 에러\n",
    "### 에러 `Error`\n",
    "- 프로그램 실행 중에 발생하는 예외 상황\n"
   ]
  },
  {
   "attachments": {},
   "cell_type": "markdown",
   "metadata": {},
   "source": [
    "#### 파이썬의 에러 유형\n",
    "- 문법 에러 `Syntax Error`\n",
    "    - 프로그램의 구문이 올바르지 않은 경우 발생 <br>(오타, 괄호 및 콜론 누락 등의 문법적 오류)\n",
    "- 예외 `Exception`\n",
    "    - 프로그램 실행 중에 감지되는 에러"
   ]
  },
  {
   "attachments": {},
   "cell_type": "markdown",
   "metadata": {},
   "source": [
    "#### 문법 에러 예시\n",
    "- Invalid syntax (문법 오류)\n",
    "    \n",
    "    ```py\n",
    "    while # SyntaxError: invalid syntax\n",
    "    ```\n",
    "\n",
    "- assign to literal (잘못된 할당)\n",
    "    \n",
    "    ```py\n",
    "    5=3 # SyntaxError: cannot assign to literal\n",
    "    ```\n",
    "\n",
    "- EOL (End of Line)\n",
    "    \n",
    "    ```py\n",
    "    print('hello   \n",
    "    # SyntaxError: EOL while scanning string literal\n",
    "    ```\n",
    "\n",
    "- EOF (End of File)\n",
    "    \n",
    "    ```py\n",
    "    print(\n",
    "    #SyntaxError: unexpected EOF while parsing\n",
    "    ```\n"
   ]
  },
  {
   "attachments": {},
   "cell_type": "markdown",
   "metadata": {},
   "source": [
    "## 예외\n",
    "### 예외 `Exception`\n",
    "- 프로그램 실행 중에 감지되는 에러"
   ]
  },
  {
   "attachments": {},
   "cell_type": "markdown",
   "metadata": {},
   "source": [
    "#### 내장 예외 `Built-in Exceptions`\n",
    "- 예외 상황을 나타내는 예외 클래스들\n",
    "- 파이썬에서 이미 정의되어 있으며, 특정 예외 상황에 대한 처리를 위해 사용\n",
    "> 참고 문서 : https://docs.python.org/ko/3/library/exceptions.html#ValueError"
   ]
  },
  {
   "attachments": {},
   "cell_type": "markdown",
   "metadata": {},
   "source": [
    "#### 내장 예외 예시\n",
    "- `ZeroDivisionError`\n",
    "    - 나누기 또는 모듈로 연산의 두 번째 인자가 0일 때 발생\n",
    "    \n",
    "        ```py\n",
    "        10/0 # ZeroDivisionError: division by zero\n",
    "        ```\n",
    "    \n",
    "- `NameError`\n",
    "    - 지역 또는 전역 이름을 찾을 수 없을 때 발생\n",
    "    \n",
    "        ```py\n",
    "        print(name_error) # NameError: name 'name_error' is not defined\n",
    "        ```\n",
    "\n",
    "- `TypeError` \n",
    "    - 타입 불일치\n",
    "        \n",
    "        ```py\n",
    "        '2' + 2  # TypeError: can only concatenate str (not \"int\") to str\n",
    "        ```\n",
    "\n",
    "    - 인자 누락\n",
    "        \n",
    "        ```py\n",
    "        sum()  # TypeError: sum() takes at least 1 positional argument (0 given)\n",
    "        ```\n",
    "    \n",
    "    - 인자 초과\n",
    "\n",
    "        ```py\n",
    "        sum(1, 2, 3)  # TypeError: sum() takes at most 2 arguments (3 given)\n",
    "        ```\n",
    "\n",
    "    - 인자 타입 불일치\n",
    "        \n",
    "        ```py\n",
    "        import random\n",
    "        random.sample(1, 2)\n",
    "        # TypeError: Population must be a sequence.  For dicts or sets, use sorted(d).\n",
    "        ```\n",
    "\n",
    "- `ValueError` \n",
    "    - 연산이나 함수에 문제가 없지만 부적절한 값을 가진 인자를 받았고, 상황이 IndexError 처럼 더 구체적인 예외로 설명되지 않는 경우 발생\n",
    "\n",
    "        ```py\n",
    "        int('1.5') # ValueError: invalid literal for int() with base 10: '3.5'\n",
    "\n",
    "        range(3).index(6) # ValueError: 6 is not in range\n",
    "        ```\n",
    "\n",
    "- `IndexError`\n",
    "    - 시퀀스 인덱스가 범위를 벗어날 때 발생\n",
    "    \n",
    "        ```py\n",
    "        empty_list = []\n",
    "        empty_list[2]\n",
    "        # IndexError: list index out of range\n",
    "        ```\n",
    "    \n",
    "- `KeyError`\n",
    "    - 딕셔너리에 해당 키가 존재하지 않는 경우\n",
    "        \n",
    "        ```py\n",
    "        person = {'name': 'Alice'}\n",
    "        person['age']  # KeyError: 'age'\n",
    "        ```\n",
    "\n",
    "- `ModuleNotFoundError`\n",
    "    - 모듈을 찾을 수 없을 때 발생\n",
    "        \n",
    "        ```py\n",
    "        import hahaha  # ModuleNotFoundError: No module named 'hahaha'\n",
    "        ```\n",
    "\n",
    "- `ImportError`\n",
    "    - 임포트 하려는 이름을 찾을 수 없을 때 발생\n",
    "    \n",
    "        ```py\n",
    "        from random import hahaha\n",
    "        # ImportError: cannot import name 'hahaha' from 'random'\n",
    "        ```\n",
    "\n",
    "- `KeyboardInterrupt`\n",
    "    - 사용자가 Control-C 또는 Delete를 누를 때 발생\n",
    "    - 무한루프 시 강제 종료\n",
    "    \n",
    "        ```py\n",
    "        while True: \n",
    "            continue\n",
    "        \n",
    "        '''\n",
    "        Traceback (most recent call last):\n",
    "          File \"...\", line 2, in <module>\n",
    "            continue\n",
    "        KeyboardInterrupt\n",
    "        '''\n",
    "        ```\n",
    "\n",
    "- `IndentationError`\n",
    "    - 잘못된 들여쓰기와 관련된 문법 오류\n",
    "    \n",
    "        ```py\n",
    "        for i in range(10):\n",
    "            print(i) # IndentationError: expected an indented block\n",
    "        ```\n",
    "\n"
   ]
  },
  {
   "attachments": {},
   "cell_type": "markdown",
   "metadata": {},
   "source": [
    "#### 실행 해보기"
   ]
  },
  {
   "cell_type": "code",
   "execution_count": null,
   "metadata": {},
   "outputs": [],
   "source": [
    "# 실행 해보기 1\n",
    "10/0"
   ]
  },
  {
   "cell_type": "code",
   "execution_count": null,
   "metadata": {},
   "outputs": [],
   "source": [
    "# 실행 해보기 2\n",
    "print(name_error) "
   ]
  },
  {
   "cell_type": "code",
   "execution_count": null,
   "metadata": {},
   "outputs": [],
   "source": [
    "# 실행 해보기 3\n",
    "'2' + 2"
   ]
  },
  {
   "cell_type": "code",
   "execution_count": null,
   "metadata": {},
   "outputs": [],
   "source": [
    "# 실행 해보기 4\n",
    "sum()"
   ]
  },
  {
   "cell_type": "code",
   "execution_count": null,
   "metadata": {},
   "outputs": [],
   "source": [
    "# 실행 해보기 5\n",
    "sum(1, 2, 3)"
   ]
  },
  {
   "cell_type": "code",
   "execution_count": null,
   "metadata": {},
   "outputs": [],
   "source": [
    "# 실행 해보기 6\n",
    "import random\n",
    "random.sample(1, 2)"
   ]
  },
  {
   "cell_type": "code",
   "execution_count": null,
   "metadata": {},
   "outputs": [],
   "source": [
    "# 실행 해보기 7\n",
    "int('1.5') "
   ]
  },
  {
   "cell_type": "code",
   "execution_count": null,
   "metadata": {},
   "outputs": [],
   "source": [
    "# 실행 해보기 7\n",
    "range(3).index(6)  "
   ]
  },
  {
   "cell_type": "code",
   "execution_count": null,
   "metadata": {},
   "outputs": [],
   "source": [
    "# 실행 해보기 8\n",
    "empty_list = []\n",
    "empty_list[2]"
   ]
  },
  {
   "cell_type": "code",
   "execution_count": null,
   "metadata": {},
   "outputs": [],
   "source": [
    "# 실행 해보기 9\n",
    "person = {'name': 'Alice'}\n",
    "person['age']"
   ]
  },
  {
   "cell_type": "code",
   "execution_count": null,
   "metadata": {},
   "outputs": [],
   "source": [
    "# 실행 해보기 10\n",
    "import hahaha\n"
   ]
  },
  {
   "cell_type": "code",
   "execution_count": null,
   "metadata": {},
   "outputs": [],
   "source": [
    "# 실행 해보기 11\n",
    "from random import hahaha"
   ]
  },
  {
   "cell_type": "code",
   "execution_count": null,
   "metadata": {},
   "outputs": [],
   "source": [
    "# 실행 해보기 12\n",
    "for i in range(10):\n",
    "print(i)"
   ]
  },
  {
   "cell_type": "markdown",
   "metadata": {},
   "source": [
    "## 예외 처리\n",
    "- 예외가 발생했을 때 프로그램이 비정상적으로 종료되지 않고, 적절하게 처리할 수 있도록 하는 방법\n",
    "\n"
   ]
  },
  {
   "cell_type": "markdown",
   "metadata": {},
   "source": [
    "### 예외 처리 사용 구문\n",
    "- `try`\n",
    "  - 예외가 발생할 수 있는 코드 작성\n",
    "- `except`\n",
    "  - 예외가 발생했을 때 실행할 코드 작성\n",
    "- `else`\n",
    "  - 예외가 발생하지 않았을 때 실행할 코드 작성\n",
    "- `finally`\n",
    "  - 예외 발생 여부와 상관없이 항상 실행할 코드 작성\n",
    "\n",
    "  ```python\n",
    "  try:\n",
    "      x = int(input('숫자를 입력하세요: '))\n",
    "      y = 10 / x\n",
    "  except ZeroDivisionError:\n",
    "      print('0으로 나눌 수 없습니다.')\n",
    "  except ValueError:\n",
    "      print('유효한 숫자가 아닙니다.')\n",
    "  else:\n",
    "      print(f'결과: {y}')\n",
    "  finally:\n",
    "      print('프로그램이 종료되었습니다.')\n",
    "  ```\n",
    "\n"
   ]
  },
  {
   "attachments": {},
   "cell_type": "markdown",
   "metadata": {},
   "source": [
    "### try & except\n",
    "- try 블록 안에는 예외가 발생할 수 있는 코드를 작성\n",
    "- except 블록 안에는 예외가 발생했을 때 처리할 코드를 작성\n",
    "- 예외가 발생하면 프로그램 흐름은 try 블록을 빠져나와 해당 예외에 대응하는 except 블록으로 이동\n",
    "\n",
    "    ```py\n",
    "    try:\n",
    "        # 예외가 발생할 수 있는 코드\n",
    "\n",
    "    except 예외:\n",
    "        # 예외 처리 코드\n",
    "    ```\n"
   ]
  },
  {
   "attachments": {},
   "cell_type": "markdown",
   "metadata": {},
   "source": [
    "#### 예외 처리 예시\n",
    "\n",
    "```py\n",
    "try:\n",
    "    result = 10 / 0\n",
    "except ZeroDivisionError:\n",
    "    print('0으로 나눌 수 없습니다.')\n",
    "# 0으로 나눌 수 없습니다.\n",
    "```\n",
    "```py\n",
    "try:\n",
    "    num = int(input('숫자입력 : '))\n",
    "except ValueError:\n",
    "    print('숫자가 아닙니다.')\n",
    "\n",
    "\"\"\"\n",
    "숫자입력 : a\n",
    "숫자가 아닙니다.\n",
    "\"\"\"\n",
    "```"
   ]
  },
  {
   "cell_type": "markdown",
   "metadata": {},
   "source": [
    "### 복수 예외 처리"
   ]
  },
  {
   "attachments": {},
   "cell_type": "markdown",
   "metadata": {},
   "source": [
    "#### 복수 예외 처리 연습 (1/4)\n",
    "- 100을 사용자가 입력한 값으로 나누고 출력하는 코드를 작성해보시오.\n",
    "    - 먼저, 발생 가능한 에러가 무엇인지 예상해보기\n",
    "\n",
    "        ```py\n",
    "        num = int(input('100으로 나눌 값을 입력하시오 : '))\n",
    "        print(100 / num)\n",
    "        ```"
   ]
  },
  {
   "attachments": {},
   "cell_type": "markdown",
   "metadata": {},
   "source": [
    "#### 복수 예외 처리 연습 (2/4)\n",
    "- 100을 사용자가 입력한 값으로 나누고 출력하는 코드를 작성해보시오.\n",
    "    - 먼저, 발생 가능한 에러가 무엇인지 예상해보기\n",
    "\n",
    "        ```py\n",
    "        num = int(input('100으로 나눌 값을 입력하시오 : '))\n",
    "        print(100 / num)\n",
    "\n",
    "        # int(’a’)\n",
    "        # 100/int(’0’)\n",
    "        ```"
   ]
  },
  {
   "attachments": {},
   "cell_type": "markdown",
   "metadata": {},
   "source": [
    "#### 복수 예외 처리 연습 (3/4)\n",
    "- 100을 사용자가 입력한 값으로 나누고 출력하는 코드를 작성해보시오.\n",
    "    - 먼저, 발생 가능한 에러가 무엇인지 예상해보기\n",
    "\n",
    "        ```py\n",
    "        num = int(input('100으로 나눌 값을 입력하시오 : '))\n",
    "        print(100 / num)\n",
    "\n",
    "        \"\"\"\n",
    "        int(’a’)\n",
    "        문자열을 int로 형변환 : ValueError\n",
    "        \"\"\"\n",
    "\n",
    "        \"\"\"\n",
    "        100 / 0\n",
    "        0으로 숫자를 나눔 : ZeroDivisionError\n",
    "        \"\"\"\n",
    "        ```"
   ]
  },
  {
   "attachments": {},
   "cell_type": "markdown",
   "metadata": {},
   "source": [
    "#### 복수 예외 처리 연습 (4/4)\n",
    "- 100을 사용자가 입력한 값으로 나누고 출력하는 코드를 작성해보시오.\n",
    "    - 발생가능한 에러를 모두 명시하거나 & 별도로 작성하기\n",
    "    - 모두 명시\n",
    "        \n",
    "        ```py\n",
    "        try:\n",
    "            num = int(input('100으로 나눌 값을 입력하시오 : '))\n",
    "            print(100 / num)\n",
    "        except (ValueError, ZeroDivisionError):\n",
    "            print('제대로 입력해주세요.')\n",
    "        ```\n",
    "\n",
    "    - 별도 작성\n",
    "        \n",
    "        ```py\n",
    "        try:\n",
    "            num = int(input('100으로 나눌 값을 입력하시오 : '))\n",
    "            print(100 / num)\n",
    "        except ValueError:\n",
    "            print('숫자를 넣어주세요.')\n",
    "        except ZeroDivisionError:\n",
    "            print('0으로 나눌 수 없습니다.')\n",
    "        except:\n",
    "            print('에러가 발생하였습니다.')\n",
    "        ```\n"
   ]
  },
  {
   "cell_type": "markdown",
   "metadata": {},
   "source": [
    "### else & finally\n",
    "- `else`\n",
    "  - 예외가 발생하지 않았을 때 추가 작업을 진행\n",
    "- `finally`\n",
    "  - 예외 발생 여부와 상관없이 항상 실행할 코드를 작성\n",
    "\n",
    "  ```python\n",
    "  try:\n",
    "      x = int(input('숫자를 입력하세요: '))\n",
    "      y = 10 / x\n",
    "  except ZeroDivisionError:\n",
    "      print('0으로 나눌 수 없습니다.')\n",
    "  except ValueError:\n",
    "      print('유효한 숫자가 아닙니다.')\n",
    "  else:\n",
    "      print(f'결과: {y}')\n",
    "  finally:\n",
    "      print('프로그램이 종료되었습니다.')\n",
    "  ```\n"
   ]
  },
  {
   "cell_type": "markdown",
   "metadata": {},
   "source": [
    "### 참고"
   ]
  },
  {
   "cell_type": "markdown",
   "metadata": {},
   "source": [
    "#### 예외 처리 주의사항"
   ]
  },
  {
   "cell_type": "markdown",
   "metadata": {},
   "source": [
    "##### 내장 예외의 상속 계층구조 주의 (1/2)\n",
    "- 아래와 같이 예외를 작성하면 코드는 2번째 except 절에 이후로 도달하지 못함 \n",
    "    \n",
    "    ```py\n",
    "    try:\n",
    "        num = int(input('100으로 나눌 값을 입력하시오 : '))\n",
    "        print(100 / num)\n",
    "    except BaseException:\n",
    "        print('숫자를 넣어주세요.')\n",
    "    # 하단 블록에 도달하지 못함\n",
    "    except ZeroDivisionError:\n",
    "        print('0으로 나눌 수 없습니다.')\n",
    "    except:\n",
    "        print('에러가 발생하였습니다.')\n",
    "\n",
    "    ```\n"
   ]
  },
  {
   "attachments": {},
   "cell_type": "markdown",
   "metadata": {},
   "source": [
    "##### 내장 예외의 상속 계층구조 주의 (2/2)\n",
    "- 내장 예외 클래스는 상속 계층구조를 가지기 때문에 <br>except 절로 분기 시 반드시 하위 클래스를 먼저 확인 할 수 있도록 작성해야 함\n",
    "\n",
    "    ```py\n",
    "    try:\n",
    "        num = int(input('100으로 나눌 값을 입력하시오 : '))\n",
    "        print(100 / num)\n",
    "    except BaseException: # 하위 예외 클래스 확인 필요\n",
    "        print('숫자를 넣어주세요.')\n",
    "    except ZeroDivisionError: # 하위 예외 클래스 확인 필요\n",
    "        print('0으로 나눌 수 없습니다.')\n",
    "    except:\n",
    "        print('에러가 발생하였습니다.')\n",
    "    ```\n",
    "    \n",
    "    ![image](https://github.com/ragu6963/TIL/assets/32388270/6ce033c9-6715-473f-a6c2-9e2288361a1a)\n",
    "\n",
    "> 참고 문서 : https://docs.python.org/ko/3/library/exceptions.html#exception-hierarchy\n"
   ]
  },
  {
   "cell_type": "markdown",
   "metadata": {},
   "source": [
    "#### 예외 객체 다루기\n",
    "##### `as` 키워드\n",
    "- 예외객체\n",
    "    - 예외가 발생했을 때 예외에 대한 정보를 담고 있는 객체\n",
    "- `except` 블록에서 예외 객체를 받아 상세한 예외 정보를 활용 가능\n",
    "\n",
    "    ```py\n",
    "    my_list = []\n",
    "\n",
    "    try:\n",
    "        number = my_list[1]\n",
    "    except IndexError as error:\n",
    "        print(f'{error}가 발생했습니다.')\n",
    "\n",
    "    # list index out of range가 발생했습니다.\n",
    "    ```\n"
   ]
  },
  {
   "cell_type": "markdown",
   "metadata": {},
   "source": [
    "##### try-except와 if-else\n",
    "- `try-except`와 `if-else`를 함께 사용할 수 있음\n",
    "  ```python\n",
    "  try:\n",
    "      x = int(input('숫자를 입력하세요: '))\n",
    "      if x < 0:\n",
    "          print('음수는 허용되지 않습니다.')\n",
    "      else:\n",
    "          print('입력한 숫자:', x)\n",
    "  except ValueError:\n",
    "      print('오류 발생')\n",
    "  ```\n",
    "\n"
   ]
  }
 ],
 "metadata": {
  "kernelspec": {
   "display_name": "Python 3",
   "language": "python",
   "name": "python3"
  },
  "language_info": {
   "codemirror_mode": {
    "name": "ipython",
    "version": 3
   },
   "file_extension": ".py",
   "mimetype": "text/x-python",
   "name": "python",
   "nbconvert_exporter": "python",
   "pygments_lexer": "ipython3",
   "version": "3.9.13"
  },
  "orig_nbformat": 4
 },
 "nbformat": 4,
 "nbformat_minor": 2
}
