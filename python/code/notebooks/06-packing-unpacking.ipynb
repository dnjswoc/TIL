{
 "cells": [
  {
   "attachments": {},
   "cell_type": "markdown",
   "metadata": {},
   "source": [
    "# Packing & Unpacking"
   ]
  },
  {
   "attachments": {},
   "cell_type": "markdown",
   "metadata": {},
   "source": [
    "## Packing & Unpacking"
   ]
  },
  {
   "attachments": {},
   "cell_type": "markdown",
   "metadata": {},
   "source": [
    "### Packing `패킹`\n",
    "- 여러 개의 값을 하나의 변수에 묶어서 담는 것"
   ]
  },
  {
   "attachments": {},
   "cell_type": "markdown",
   "metadata": {},
   "source": [
    "#### 패킹 예시\n",
    "- 변수에 담긴 값들은 튜플(tuple) 형태로 묶임\n",
    "\n",
    "    ```python\n",
    "    packed_values = 1, 2, 3, 4, 5\n",
    "    print(packed_values)  # (1, 2, 3, 4, 5)\n",
    "    ```"
   ]
  },
  {
   "attachments": {},
   "cell_type": "markdown",
   "metadata": {},
   "source": [
    "#### `‘*’`을 활용한 패킹\n",
    "- `*b`는 남은 요소들을 리스트로 패킹하여 할당\n",
    "\n",
    "    ```python\n",
    "    numbers = [1, 2, 3, 4, 5]\n",
    "    a, *b, c = numbers\n",
    "    \n",
    "    print(a) # 1\n",
    "    print(b) # [2, 3, 4]\n",
    "    print(c) # 5\n",
    "    ```\n",
    "- print 함수에 임의의 가변 인자를 작성할 수 있었던 이유\n",
    "\n",
    "    ```python\n",
    "    print('hello') # hello\n",
    "    print('you', 'need', 'python') # you need python\n",
    "    ```\n",
    "\n",
    "    ![image](https://github.com/ragu6963/TIL/assets/32388270/05db04bd-d01c-4f4c-a193-854e59385d67)\n"
   ]
  },
  {
   "attachments": {},
   "cell_type": "markdown",
   "metadata": {},
   "source": [
    "#### 실행 해보기"
   ]
  },
  {
   "cell_type": "code",
   "execution_count": null,
   "metadata": {},
   "outputs": [],
   "source": [
    "# 실행 해보기 1\n",
    "packed_values = 1, 2, 3, 4, 5\n",
    "print(packed_values) "
   ]
  },
  {
   "cell_type": "code",
   "execution_count": null,
   "metadata": {},
   "outputs": [],
   "source": [
    "# 실행 해보기 2\n",
    "numbers = [1, 2, 3, 4, 5]\n",
    "a, *b, c = numbers\n",
    "    \n",
    "print(a)\n",
    "print(b)\n",
    "print(c)"
   ]
  },
  {
   "cell_type": "code",
   "execution_count": null,
   "metadata": {},
   "outputs": [],
   "source": [
    "# 실행 해보기 3\n",
    "print('hello')\n",
    "print('you', 'need', 'python')"
   ]
  },
  {
   "attachments": {},
   "cell_type": "markdown",
   "metadata": {},
   "source": [
    "### Unpacking `언패킹`\n",
    "- 패킹된 변수의 값을 개별적인 변수로 분리하여 할당하는 것\n"
   ]
  },
  {
   "attachments": {},
   "cell_type": "markdown",
   "metadata": {},
   "source": [
    "#### 언패킹 예시\n",
    "- 튜플이나 리스트 등의 객체의 요소들을 개별 변수에 할당\n",
    "    \n",
    "    ```python\n",
    "    packed_values = 1, 2, 3, 4, 5\n",
    "    a, b, c, d, e = packed_values\n",
    "    print(a, b, c, d, e)  # 1 2 3 4 5\n",
    "    ```"
   ]
  },
  {
   "cell_type": "markdown",
   "metadata": {},
   "source": [
    "#### `‘*’`을 활용한 언패킹\n",
    "- `*` 는 리스트의 요소를 언패킹하여 인자로 전달\n",
    "\n",
    "    ```python\n",
    "    def my_function(x, y, z):\n",
    "        print(x, y, z)\n",
    "    \n",
    "    names = ['alice', 'jane', 'peter']\n",
    "    my_function(*names) # alice jane peter\n",
    "    ```"
   ]
  },
  {
   "attachments": {},
   "cell_type": "markdown",
   "metadata": {},
   "source": [
    "#### `‘**’`을 활용한 언패킹\n",
    "- `**` 는 딕셔너리의 키-값 쌍을 함수의 키워드 인자로 언패킹\n",
    "    \n",
    "    ```python\n",
    "    def my_function(x, y, z):\n",
    "        print(x, y, z)\n",
    "\n",
    "\n",
    "    my_dict = {'x': 1, 'y': 2, 'z': 3}\n",
    "    my_function(**my_dict)  # 1 2 3\n",
    "    ```\n"
   ]
  },
  {
   "cell_type": "markdown",
   "metadata": {},
   "source": [
    "#### `*`, `**` 패킹 / 언패킹 연산자 정리\n",
    "- `‘*’`\n",
    "    - 패킹 연산자로 사용될 때, 여러 개의 인자를 하나의 튜플로 묶음\n",
    "    - 언패킹 연산자로 사용될 때, 시퀀스나 반복 가능한 객체를 각각의 요소로 언패킹하여 함수의 인자로 전달\n",
    "    \n",
    "- `‘**’`\n",
    "    - 언패킹 연산자로 사용될 때, 딕셔너리의 키-값 쌍을 언패킹하여 함수의 키워드 인자로 전달\n",
    "\n"
   ]
  },
  {
   "attachments": {},
   "cell_type": "markdown",
   "metadata": {},
   "source": [
    "#### 실행 해보기"
   ]
  },
  {
   "cell_type": "code",
   "execution_count": null,
   "metadata": {},
   "outputs": [],
   "source": [
    "# 실행 해보기 1\n",
    "packed_values = 1, 2, 3, 4, 5\n",
    "a, b, c, d, e = packed_values\n",
    "print(a, b, c, d, e)"
   ]
  },
  {
   "cell_type": "code",
   "execution_count": null,
   "metadata": {},
   "outputs": [],
   "source": [
    "# 실행 해보기 2\n",
    "names = ['alice', 'jane', 'peter']\n",
    "print(*names)"
   ]
  },
  {
   "cell_type": "code",
   "execution_count": null,
   "metadata": {},
   "outputs": [],
   "source": [
    "# 실행 해보기 3\n",
    "def my_function(x, y, z):\n",
    "    print(x, y, z)\n",
    "    \n",
    "\n",
    "my_dict = {'x': 1, 'y': 2, 'z': 3}\n",
    "my_function(**my_dict) "
   ]
  }
 ],
 "metadata": {
  "kernelspec": {
   "display_name": "Python 3",
   "language": "python",
   "name": "python3"
  },
  "language_info": {
   "codemirror_mode": {
    "name": "ipython",
    "version": 3
   },
   "file_extension": ".py",
   "mimetype": "text/x-python",
   "name": "python",
   "nbconvert_exporter": "python",
   "pygments_lexer": "ipython3",
   "version": "3.9.13"
  },
  "orig_nbformat": 4
 },
 "nbformat": 4,
 "nbformat_minor": 2
}
