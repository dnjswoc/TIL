{
 "cells": [
  {
   "attachments": {},
   "cell_type": "markdown",
   "metadata": {},
   "source": [
    "# Type Conversion"
   ]
  },
  {
   "cell_type": "markdown",
   "metadata": {},
   "source": [
    "## Type Conversion\n",
    "\n",
    "### 형변환\n",
    "- 한 데이터 타입을 다른 데이터 타입으로 변환하는 과정\n",
    "- 암시적 형변환 / 명시적 형변환으로 나뉨"
   ]
  },
  {
   "cell_type": "markdown",
   "metadata": {},
   "source": [
    "### 암시적 형변환 `Implicit Type conversion`\n",
    "- 파이썬이 자동으로 수행하는 형변환"
   ]
  },
  {
   "cell_type": "markdown",
   "metadata": {},
   "source": [
    "#### 암시적 형변환 예시\n",
    "- 정수와 실수의 연산에서 정수가 실수로 변환됨\n",
    "- Boolean과 Numeric Type에서만 가능\n",
    "\n",
    "```python\n",
    "print(3 + 5.0)  # 8.0\n",
    "\n",
    "print(True + 3)  # 4\n",
    "\n",
    "print(True + False)  # 1\n",
    "```"
   ]
  },
  {
   "attachments": {},
   "cell_type": "markdown",
   "metadata": {},
   "source": [
    "#### 실행 해보기"
   ]
  },
  {
   "cell_type": "code",
   "execution_count": null,
   "metadata": {},
   "outputs": [],
   "source": [
    "# 실행 해보기\n",
    "print(3 + 5.0) \n",
    "\n",
    "print(True + 3)\n",
    "\n",
    "print(True + False)"
   ]
  },
  {
   "cell_type": "markdown",
   "metadata": {},
   "source": [
    "### 명시적 형변환 `Explicit Type conversion`\n",
    "- 프로그래머가 직접 지정하는 형변환\n",
    "- 암시적 형변환이 아닌 경우를 모두 포함"
   ]
  },
  {
   "cell_type": "markdown",
   "metadata": {},
   "source": [
    "#### 명시적 형변환 예시\n",
    "- str -> integer : 형식에 맞는 숫자만 가능\n",
    "```python\n",
    "print(int('1'))  # 1\n",
    "\n",
    "# ValueError: invalid literal for int() with base 10: '3.5'\n",
    "print(int('3.5'))\n",
    "\n",
    "print(int(3.5))  # 3\n",
    "print(float('3.5'))  # 3.5\n",
    "```\n",
    "\n",
    "- integer -> str : 모두 가능\n",
    " \n",
    "```python\n",
    "print(str(1) + '등')  # 1등\n",
    "```\n"
   ]
  },
  {
   "attachments": {},
   "cell_type": "markdown",
   "metadata": {},
   "source": [
    "#### 실행 해보기"
   ]
  },
  {
   "cell_type": "code",
   "execution_count": null,
   "metadata": {},
   "outputs": [],
   "source": [
    "# 실행 해보기\n",
    "print(int('1')) \n",
    "\n",
    "print(str(1) + '등') \n",
    "\n",
    "print(float('3.5'))\n",
    "\n",
    "print(int(3.5)) \n",
    "\n",
    "print(int('3.5'))"
   ]
  }
 ],
 "metadata": {
  "kernelspec": {
   "display_name": "Python 3",
   "language": "python",
   "name": "python3"
  },
  "language_info": {
   "codemirror_mode": {
    "name": "ipython",
    "version": 3
   },
   "file_extension": ".py",
   "mimetype": "text/x-python",
   "name": "python",
   "nbconvert_exporter": "python",
   "pygments_lexer": "ipython3",
   "version": "3.9.13"
  },
  "orig_nbformat": 4
 },
 "nbformat": 4,
 "nbformat_minor": 2
}
