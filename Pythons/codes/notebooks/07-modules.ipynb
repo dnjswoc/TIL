{
 "cells": [
  {
   "cell_type": "markdown",
   "metadata": {},
   "source": [
    "# Module"
   ]
  },
  {
   "attachments": {},
   "cell_type": "markdown",
   "metadata": {},
   "source": [
    "## 모듈\n",
    "### 개요\n",
    "- 과학자, 수학자가 모든 이론을 새로 만들거나 증명하지 않는 것처럼<br>개발자 또한 프로그램 전체를 모두 혼자 힘으로 작성하는 것은 드문 일\n",
    "- 이미 다른 프로그래머가 이미 작성해 놓은 수천, 수백만 줄의 코드를 사용하는<br>것은 생산성에서 매우 중요한 일\n",
    "\n"
   ]
  },
  {
   "attachments": {},
   "cell_type": "markdown",
   "metadata": {},
   "source": [
    "#### 모듈 `Module`\n",
    "- 한 파일로 묶인 변수와 함수의 모음<br>특정한 기능을 하는 코드가 작성된 파이썬 파일(`.py`)\n"
   ]
  },
  {
   "attachments": {},
   "cell_type": "markdown",
   "metadata": {},
   "source": [
    "#### 모듈 예시\n",
    "- math 내장 모듈\n",
    "- 파이썬이 미리 작성해 둔 수학 관련 변수와 함수가 작성된 모듈\n",
    "    \n",
    "    ```python\n",
    "    import math\n",
    "    \n",
    "    print(math.pi)  # 3.141592653589793\n",
    "    \n",
    "    print(math.sqrt(4))  # 2.0\n",
    "    ```\n",
    "> 참고 문서 : https://docs.python.org/3/library/math.html"
   ]
  },
  {
   "attachments": {},
   "cell_type": "markdown",
   "metadata": {},
   "source": [
    "#### 실행 해보기"
   ]
  },
  {
   "cell_type": "code",
   "execution_count": null,
   "metadata": {},
   "outputs": [],
   "source": [
    "# 실행 해보기 1\n",
    "import math\n",
    "    \n",
    "print(math.pi)\n",
    "    \n",
    "print(math.sqrt(4))"
   ]
  },
  {
   "attachments": {},
   "cell_type": "markdown",
   "metadata": {},
   "source": [
    "## 모듈 활용"
   ]
  },
  {
   "attachments": {},
   "cell_type": "markdown",
   "metadata": {},
   "source": [
    "### 모듈 import"
   ]
  },
  {
   "cell_type": "markdown",
   "metadata": {},
   "source": [
    "#### 모듈을 가져오는 방법\n",
    "- `import` 문 사용\n",
    "\n",
    "    ```python\n",
    "    import math\n",
    "    \n",
    "    print(math.sqrt(4))\n",
    "    ```\n",
    "- `from` 절 사용\n",
    "\n",
    "    ```python\n",
    "    from math import sqrt\n",
    "\n",
    "    print(sqrt(4))\n",
    "    ```"
   ]
  },
  {
   "attachments": {},
   "cell_type": "markdown",
   "metadata": {},
   "source": [
    "#### 모듈 사용하기\n",
    "- `'.' (dot)` 연산자\n",
    "  - \"점의 왼쪽 객체에서 점의 오른쪽 이름을 찾아라“ 라는 의미\n",
    "\n",
    "    ```python\n",
    "    # 모듈명.변수명\n",
    "    print(math.pi)\n",
    "\n",
    "    # 모듈명.함수명\n",
    "    print(math.sqrt(4))\n",
    "    ```\n"
   ]
  },
  {
   "cell_type": "markdown",
   "metadata": {},
   "source": [
    "#### 모듈 주의사항\n",
    "- 서로 다른 모듈이 같은 이름의 함수를 제공할 경우 문제 발생\n",
    "- 마지막에 `import`된 이름으로 대체됨\n",
    "\n",
    "    ```python\n",
    "    from math import pi, sqrt\n",
    "    from my_math import sqrt\n",
    "\n",
    "    ```\n",
    "    ```python\n",
    "    # 그래서 모듈 내 모든 요소를 한번에 import 하는 * 표기는 권장하지 않음\n",
    "    \n",
    "    from math import *\n",
    "    ```"
   ]
  },
  {
   "cell_type": "markdown",
   "metadata": {},
   "source": [
    "#### `as` 키워드\n",
    "- as 키워드를 사용하여 별칭(alias)을 부여\n",
    "  - 두 개 이상의 모듈에서 동일한 이름의 변수, 함수 클래스 등을 가져올 때 발생하는 이름 충돌 해결\n",
    "\n",
    "  ```python\n",
    "  from math import sqrt\n",
    "  from my_math import sqrt as my_sqrt\n",
    "  \n",
    "  sqrt(4)\n",
    "  my_sqrt(4)\n",
    "  ```\n"
   ]
  },
  {
   "attachments": {},
   "cell_type": "markdown",
   "metadata": {},
   "source": [
    "#### 실행 해보기"
   ]
  },
  {
   "cell_type": "code",
   "execution_count": null,
   "metadata": {},
   "outputs": [],
   "source": [
    "# 실행 해보기 1\n",
    "import math\n",
    "\n",
    "\n",
    "help(math)"
   ]
  },
  {
   "cell_type": "code",
   "execution_count": null,
   "metadata": {},
   "outputs": [],
   "source": [
    "# 실행 해보기 2\n",
    "import math\n",
    "\n",
    "\n",
    "print(math.pi)\n",
    "\n",
    "print(math.sqrt(4))"
   ]
  },
  {
   "cell_type": "code",
   "execution_count": null,
   "metadata": {},
   "outputs": [],
   "source": [
    "# 실행 해보기 3\n",
    "from math import pi, sqrt\n",
    "\n",
    "    \n",
    "print(pi)\n",
    "\n",
    "print(sqrt(4))"
   ]
  },
  {
   "attachments": {},
   "cell_type": "markdown",
   "metadata": {},
   "source": [
    "### 사용자 정의 모듈"
   ]
  },
  {
   "attachments": {},
   "cell_type": "markdown",
   "metadata": {},
   "source": [
    "#### 직접 정의한 모듈 사용하기\n",
    "1. 모듈 my_math.py 작성\n",
    "2. 두 수의 합을 구하는 add 함수 작성\n",
    "3. my_math 모듈 import 후 add 함수 호출\n",
    "\n",
    "![image](https://github.com/ragu6963/TIL/assets/32388270/16905377-6a9c-4ba5-9d3e-0ce5a77da4f1)"
   ]
  },
  {
   "attachments": {},
   "cell_type": "markdown",
   "metadata": {},
   "source": [
    "## 파이썬 표준 라이브러리\n",
    "### 파이썬 표준 라이브러리 `Python Standard Library`\n",
    "- 파이썬 언어와 함께 제공되는 다양한 모듈과 패키지의 모음\n",
    "\n",
    "> 참고 문서 : https://docs.python.org/ko/3/library/index.html"
   ]
  },
  {
   "cell_type": "markdown",
   "metadata": {},
   "source": [
    "#### 패키지 `Package`\n",
    "- 연관된 모듈들을 하나의 디렉토리에 모아 놓은 것\n"
   ]
  },
  {
   "attachments": {},
   "cell_type": "markdown",
   "metadata": {},
   "source": [
    "#### 패키지 사용하기 (1/2)\n",
    "- 아래와 같은 디렉토리 구조로 작성\n",
    "- 패키지 3개 : my_package, math, statistics\n",
    "- 모듈 2개 : my_math, tools\n",
    "- 디렉토리 전체 구조\n",
    "    ```markdown\n",
    "    📦...\n",
    "     ┣ 📜sample.py\n",
    "     ┣ 📂my_package\n",
    "     ┃ ┣ 📂math\n",
    "     ┃ ┃ ┗ 📜my_math.py\n",
    "     ┃ ┣ 📂statistics\n",
    "     ┃ ┃ ┗ 📜tools.py\n",
    "    ```\n",
    "\n",
    "![image](https://github.com/ragu6963/TIL/assets/32388270/01f0ca51-45b2-4468-8a38-b81c6db14b24)"
   ]
  },
  {
   "attachments": {},
   "cell_type": "markdown",
   "metadata": {},
   "source": [
    "#### 패키지 사용하기 (2/2)\n",
    "- 각 패키지의 모듈을 `import` 하여 사용하기\n",
    "    ```python\n",
    "    # sample.py\n",
    "\n",
    "    from my_package.math import my_math\n",
    "    from my_package.statistics import tools\n",
    "\n",
    "\n",
    "    print(my_math.add(1, 2))  # 3\n",
    "    print(tools.mod(1, 2))  # 1\n",
    "    ```"
   ]
  },
  {
   "attachments": {},
   "cell_type": "markdown",
   "metadata": {},
   "source": [
    "#### PSL 내부 패키지\n",
    "- 설치 없이 바로 `import`하여 사용\n",
    "\n",
    "#### 외부 패키지\n",
    "- `pip`를 사용하여 설치 후 `import` 필요\n",
    "\n"
   ]
  },
  {
   "attachments": {},
   "cell_type": "markdown",
   "metadata": {},
   "source": [
    "#### pip `파이썬 패키지 관리자`\n",
    "- 외부 패키지들을 설치하도록 도와주는 파이썬의 패키지 관리 시스템\n",
    "\n",
    "- PyPI(Python Package Index)에 저장된 외부 패키지들을 설치\n",
    "> https://pypi.org/\n",
    "\n"
   ]
  },
  {
   "attachments": {},
   "cell_type": "markdown",
   "metadata": {},
   "source": [
    "#### 패키지 설치\n",
    "- 최신 버전 / 특정 버전 / 최소 버전을 명시하여 설치할 수 있음\n",
    "\n",
    "    ```bash\n",
    "    $ pip install SomePackage\n",
    "    $ pip install SomePackage==1.0.5\n",
    "    $ pip install SomePackage>=1.0.4\n",
    "    ```"
   ]
  },
  {
   "attachments": {},
   "cell_type": "markdown",
   "metadata": {},
   "source": [
    "#### requests 외부 패키지 설치 및 사용 예시\n",
    "\n",
    "```bash\n",
    "$ pip install requests\n",
    "```\n",
    "\n",
    "```python\n",
    "import requests\n",
    "\n",
    "\n",
    "url = 'https://random-data-api.com/api/v2/users'\n",
    "response = requests.get(url).json()\n",
    "\n",
    "print(response)\n",
    "```"
   ]
  },
  {
   "cell_type": "markdown",
   "metadata": {},
   "source": [
    "#### 패키지 사용 목적\n",
    "- 모듈들의 이름공간을 구분하여 충돌을 방지 \n",
    "- 모듈들을 효율적으로 관리하고 재사용할 수 있도록 돕는 역할"
   ]
  }
 ],
 "metadata": {
  "kernelspec": {
   "display_name": "Python 3",
   "language": "python",
   "name": "python3"
  },
  "language_info": {
   "codemirror_mode": {
    "name": "ipython",
    "version": 3
   },
   "file_extension": ".py",
   "mimetype": "text/x-python",
   "name": "python",
   "nbconvert_exporter": "python",
   "pygments_lexer": "ipython3",
   "version": "3.9.13"
  },
  "orig_nbformat": 4
 },
 "nbformat": 4,
 "nbformat_minor": 2
}
